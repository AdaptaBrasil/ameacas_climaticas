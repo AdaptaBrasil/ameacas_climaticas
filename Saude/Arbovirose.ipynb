{
 "cells": [
  {
   "cell_type": "markdown",
   "metadata": {},
   "source": [
    "# <center>Índice Climático referente a Arboviroses relacionadas ao mosquito Aedes Aegypti</center>\n",
    "---\n",
    "## <center>Construção do índice climático integrado<center>\n",
    "\n",
    "Desenvolvido por:\n",
    "* <b>George Ulguim Pedra</b> - gupbadabum@gmail.com\n",
    "\n",
    "Criado:     23-08-2024\n",
    "\n",
    "Atualizado: 23-09-2024"
   ]
  },
  {
   "cell_type": "code",
   "execution_count": 1,
   "metadata": {
    "vscode": {
     "languageId": "r"
    }
   },
   "outputs": [],
   "source": [
    "# Limpando a memoria\n",
    "rm(list=ls())"
   ]
  },
  {
   "cell_type": "markdown",
   "metadata": {},
   "source": [
    "#### Bibliotecas ####"
   ]
  },
  {
   "cell_type": "code",
   "execution_count": 2,
   "metadata": {
    "vscode": {
     "languageId": "r"
    }
   },
   "outputs": [
    {
     "name": "stderr",
     "output_type": "stream",
     "text": [
      "ResourceSelection 0.3-6 \t 2023-06-27\n",
      "\n",
      "Loading required package: sp\n",
      "\n",
      "rgdal: version: 1.5-23, (SVN revision 1121)\n",
      "Geospatial Data Abstraction Library extensions to R successfully loaded\n",
      "Loaded GDAL runtime: GDAL 3.3.3, released 2021/10/25\n",
      "Path to GDAL shared files: /home/hellgate/anaconda3/envs/r-env/share/gdal\n",
      "GDAL binary built with GEOS: TRUE \n",
      "Loaded PROJ runtime: Rel. 8.1.1, September 1st, 2021, [PJ_VERSION: 811]\n",
      "Path to PROJ shared files: /home/hellgate/anaconda3/envs/r-env/share/proj\n",
      "PROJ CDN enabled: TRUE\n",
      "Linking to sp version:1.4-5\n",
      "To mute warnings of possible GDAL/OSR exportToProj4() degradation,\n",
      "use options(\"rgdal_show_exportToProj4_warnings\"=\"none\") before loading rgdal.\n",
      "\n"
     ]
    }
   ],
   "source": [
    "library('openxlsx')\n",
    "library('ResourceSelection')\n",
    "library('ggplot2')\n",
    "library('rgdal')"
   ]
  },
  {
   "cell_type": "markdown",
   "metadata": {},
   "source": [
    "#### Funções Primárias ####"
   ]
  },
  {
   "cell_type": "markdown",
   "metadata": {},
   "source": [
    "As funções aqui utilizadas são derivadas do repositório <b>InformationValue</b>. No link abaixo é possível verificar a descrição e explicações mais detalhadas, seja sobre o pacote ou as funções nele disponibilizadas.\n",
    "\n",
    "https://www.rdocumentation.org/packages/InformationValue/versions/1.2.3"
   ]
  },
  {
   "cell_type": "code",
   "execution_count": 3,
   "metadata": {
    "vscode": {
     "languageId": "r"
    }
   },
   "outputs": [],
   "source": [
    "Concordance <- function (actuals, predictedScores){\n",
    "  fitted <- data.frame (Actuals=actuals, PredictedScores=predictedScores) # actuals and fitted\n",
    "  colnames(fitted) <- c('Actuals','PredictedScores') # rename columns\n",
    "  ones <- na.omit(fitted[fitted$Actuals==1, ]) # Subset ones\n",
    "  zeros <- na.omit(fitted[fitted$Actuals==0, ]) # Subsetzeros\n",
    "  totalPairs <- nrow (ones) * nrow (zeros) # calculate total number of pairs to check\n",
    "  conc <- sum (c (vapply (ones$PredictedScores, function(x) {((x > zeros$PredictedScores))}, FUN.VALUE=logical(nrow(zeros)))), na.rm=T)\n",
    "  disc <- sum(c(vapply(ones$PredictedScores, function(x) {((x < zeros$PredictedScores))}, FUN.VALUE = logical(nrow(zeros)))), na.rm = T)\n",
    "  disc <- totalPairs - conc\n",
    "\n",
    "  # Calcula a concordância, discordância e os empates\n",
    "  concordance <- conc/totalPairs\n",
    "  discordance <- disc/totalPairs\n",
    "  tiesPercent <- (1-concordance-discordance)\n",
    "  return(list(\"Concordance\"=concordance, \"Discordance\"=discordance,\n",
    "              \"Tied\"=tiesPercent, \"Pairs\"=totalPairs))\n",
    "}\n",
    "\n",
    "\n",
    "misClassError <- function(actuals, predictedScores, threshold=0.5){\n",
    "  predicted_dir <- ifelse(predictedScores < threshold, 0, 1)\n",
    "  actual_dir <- actuals\n",
    "  return(round(sum(predicted_dir != actual_dir, na.rm=T)/length(actual_dir), 4))\n",
    "}\n",
    "\n",
    "sensitivity <- function(actuals, predictedScores, threshold=0.5){\n",
    "  predicted_dir <- ifelse(predictedScores < threshold, 0, 1)\n",
    "  actual_dir <- actuals\n",
    "  no_with_and_predicted_to_have_event <- sum(actual_dir == 1 & predicted_dir == 1, na.rm=T)\n",
    "  no_with_event <- sum(actual_dir == 1, na.rm=T)\n",
    "  return(no_with_and_predicted_to_have_event/no_with_event)\n",
    "}\n",
    "\n",
    "specificity <- function(actuals, predictedScores, threshold=0.5){\n",
    "  predicted_dir <- ifelse(predictedScores < threshold, 0, 1)\n",
    "  actual_dir <- actuals\n",
    "  no_without_and_predicted_to_not_have_event <- sum(actual_dir != 1 & predicted_dir != 1, na.rm=T)\n",
    "  no_without_event <- sum(actual_dir != 1, na.rm=T)\n",
    "  return(no_without_and_predicted_to_not_have_event/no_without_event)\n",
    "}\n",
    "\n",
    "precision <- function(actuals, predictedScores, threshold=0.5){\n",
    "  predicted_dir <- ifelse(predictedScores < threshold, 0, 1)\n",
    "  actual_dir <- actuals\n",
    "  no_with_and_predicted_to_have_event <- sum(actual_dir == 1 & predicted_dir == 1, na.rm=T)\n",
    "  no_predicted_event <- sum(predicted_dir == 1, na.rm=T)\n",
    "  return(no_with_and_predicted_to_have_event/no_predicted_event)\n",
    "}\n",
    "\n",
    "npv <- function(actuals, predictedScores, threshold=0.5){\n",
    "  predicted_dir <- ifelse(predictedScores < threshold, 0, 1)\n",
    "  actual_dir <- actuals\n",
    "  no_without_and_predicted_to_not_have_event <- sum(actual_dir != 1 & predicted_dir != 1, na.rm=T)\n",
    "  no_predicted_to_not_have_event <- sum(predicted_dir != 1, na.rm=T)\n",
    "  return(no_without_and_predicted_to_not_have_event/no_predicted_to_not_have_event)\n",
    "}\n",
    "\n",
    "confusionMatrix <- function(actuals, predictedScores, threshold=0.5){\n",
    "  predicted_dir <- ifelse(predictedScores < threshold, 0, 1)\n",
    "  actual_dir <- actuals\n",
    "  return (as.data.frame.matrix(table(predicted_dir, actual_dir)))\n",
    "}\n",
    "\n",
    "\n",
    "WOETable <- function(X, Y, valueOfGood=1){\n",
    "  yClasses <- unique(Y)\n",
    "  if(length(yClasses) == 2) {  # ensure it is binary\n",
    "    # covert good's to 1 and bad's to 0.\n",
    "    Y[which(Y==valueOfGood)] <- 1\n",
    "    Y[which(!(Y==\"1\"))] <- 0\n",
    "    Y <- as.numeric(Y)\n",
    "    df <- data.frame(X, Y)\n",
    "\n",
    "    # Create WOE table\n",
    "    woeTable <- as.data.frame(matrix(numeric(nlevels(X) * 8), nrow=nlevels(X), ncol=8))\n",
    "    names(woeTable) <- c(\"CAT\", \"GOODS\", \"BADS\", \"TOTAL\", \"PCT_G\", \"PCT_B\", \"WOE\", \"IV\")\n",
    "    woeTable$CAT <- levels(X)  # load categories to table.\n",
    "\n",
    "    # Load the number of goods and bads within each category.\n",
    "    for(catg in levels(X)){  # catg => current category\n",
    "      try(woeTable[woeTable$CAT == catg, c(3, 2)] <- table(Y[X==catg]), silent=T)  # assign the good and bad count for current category.\n",
    "      woeTable[woeTable$CAT == catg, \"TOTAL\"] <- sum(X==catg , na.rm=T)\n",
    "    }\n",
    "\n",
    "    woeTable$PCT_G <- woeTable$GOODS/sum(woeTable$GOODS, na.rm=T)  # compute % good\n",
    "    woeTable$PCT_B <- woeTable$BADS /sum(woeTable$BADS, na.rm=T)  # compute % bad\n",
    "    woeTable$WOE <- log(woeTable$PCT_G / woeTable$PCT_B)  # compute WOE\n",
    "    woeTable$IV <- (woeTable$PCT_G - woeTable$PCT_B) * woeTable$WOE  # compute IV\n",
    "    attr(woeTable, \"iValue\") <- sum(woeTable$IV, na.rm=T)  # assign iv as attribute..\n",
    "    return(woeTable)\n",
    "  } else {\n",
    "    stop(\"WOE can't be computed because the Y is not binary.\")\n",
    "  }\n",
    "}\n",
    "\n",
    "Index.map<-function(X2,INPUT,COLNUM){\n",
    "    col.map<-ncol(X2@data) ; \n",
    "    {if(COLNUM==1)\n",
    "        {col.input<-1}\n",
    "    else    \n",
    "        {col.input<-NCOL(INPUT[,-c(1:COLNUM)])}\n",
    "    }\n",
    "\n",
    "    NAMES<-colnames(INPUT)\n",
    "\n",
    "    MAPA1<-X2\n",
    "    \n",
    "    {if(col.input==1)\n",
    "        {MAPA1@data[,col.map+1]<-NA}\n",
    "    else    \n",
    "        {MAPA1@data[,c((col.map+1):(col.map+col.input))]<-NA}\n",
    "    }\n",
    "\n",
    "        for(i in 1:nrow(INPUT)){\n",
    "            pos<-which(X2@data[,1]==INPUT[i,1])\n",
    "            MAPA1@data[pos,-c(1:col.map)]<-INPUT[i,-c(1:COLNUM)]\n",
    "        }\n",
    "    colnames(MAPA1@data)<-c(colnames(X2@data),NAMES[-c(1:COLNUM)])\n",
    "        \n",
    "    return(MAPA1)\n",
    "}\n",
    "\n",
    "\n",
    "# Criação da Figura\n",
    "Make.map<-function(X1,X2,INFO,WIDTH,HEIGHT,RES,TITLE,PRINT=0,MAP=0,COLSTART){\n",
    "    # X1:       Objeto shapefile com informacoes\n",
    "    # X2:       Objeto shapefile vazio\n",
    "    # INFO:     Data Frame contendo duas colunas.\n",
    "    # WIDTH:    Multiplicador do comprimento/largura\n",
    "    # HEIGHT:   Multiplicador da altura\n",
    "    # RES:      numero de DPI\n",
    "\n",
    "    output<-getwd()\n",
    "\n",
    "    subDir1<-paste0('../4-Output/Resultado/',TITLE,'/tmp/')\n",
    "        \n",
    "    ifelse(!dir.exists(file.path(output,subDir1)),dir.create(file.path(subDir1),showWarnings=FALSE,recursive=TRUE), FALSE)\n",
    "\n",
    "    col.empty<-COLSTART ; col.val<-ncol(X1@data)\n",
    "    \n",
    "    brks1<-c(0,.2,.4,.6,.8,1)\n",
    "    \n",
    "    COD<-colnames(X1@data)\n",
    "\n",
    "    Comp.ind<-unique(nchar(INFO[,1]))\n",
    "\n",
    "    TOPX<-(-ceiling(max(X2@bbox[1,])-min(X2@bbox[1,]))) + 4\n",
    "    TOPY<-as.integer(max(X2@bbox[2,]))\n",
    "    \n",
    "    for(i in c((col.empty):(col.val))){\n",
    "\n",
    "        File<-paste0(subDir1,COD[i],'.png')\n",
    "\n",
    "        IND<-COD[i]\n",
    "\n",
    "        L<-INFO[IND==INFO[,1],3]\n",
    "        TITULO<-INFO[IND==INFO[,1],2]\n",
    "        \n",
    "        {if(L==1)\n",
    "            {cols<-c('darkgreen','green2','khaki1','darkorange','red')}\n",
    "        }\n",
    "\n",
    "        {if(L==0)\n",
    "            {cols<-rev(c('darkgreen','green2','khaki1','darkorange','red'))}\n",
    "        }\n",
    "        \n",
    "        classes<-c('NO DATA','Muito Baixo','Baixo','Moderado','Alto','Muito Alto')\n",
    "        png(File,width=(WIDTH*480),height=(HEIGHT*480),type='cairo',res=RES)\n",
    "        #par(mar=c(1,1,1,1),mai=c(.01,0.01,0.01,0.01),oma=c(.1,.1,.1,.1))\n",
    "        par(mar=c(1,1,1,1),mai=c(.01,0.01,0.5,0.01),oma=c(.1,.1,.1,.1))\n",
    "        plot(X2, col='gray',border=NA,main=TITULO,cex=.25)\n",
    "        plot(X1, col=cols[findInterval(X1@data[,i],brks1,all.inside=TRUE)],border=NA,add=T)\n",
    "        legend('bottomleft',title='Classes',legend=classes,border=c('gray',cols),fill=c('gray',cols),bty=\"n\",cex=0.75)\n",
    "        if(PRINT==1) {text(TOPX,TOPY,COD[i],cex=0.5)}\n",
    "        if(MAP==1) {plot(X2,add=T,lwd=0.25)}\n",
    "        dev.off()\n",
    "    }\n",
    "}\n"
   ]
  },
  {
   "cell_type": "markdown",
   "metadata": {},
   "source": [
    "##### Funções Secundárias #####"
   ]
  },
  {
   "cell_type": "code",
   "execution_count": 4,
   "metadata": {
    "vscode": {
     "languageId": "r"
    }
   },
   "outputs": [],
   "source": [
    "#\n",
    "somersD <- function(actuals, predictedScores){\n",
    "  conc_disc <- Concordance(actuals, predictedScores)\n",
    "  return (conc_disc$Concordance - conc_disc$Discordance)\n",
    "}\n",
    "\n",
    "#\n",
    "youdensIndex <- function(actuals, predictedScores, threshold=0.5){\n",
    "  Sensitivity <- sensitivity(actuals, predictedScores, threshold = threshold)\n",
    "  Specificity <- specificity(actuals, predictedScores, threshold = threshold)\n",
    "  return(Sensitivity + Specificity - 1)\n",
    "}\n",
    "\n",
    "#\n",
    "kappaCohen <- function(actuals, predictedScores, threshold=0.5){\n",
    "  conf <- confusionMatrix(actuals=actuals, predictedScores=predictedScores, threshold=threshold)\n",
    "  prob_agreement <- conf[1, 1] + conf[2, 2]\n",
    "  prob_expected <- sum(conf[2, ])/sum(conf) * sum(conf[, 2])/sum(conf)   # probability of actual 'yes' * probability of predicting 'yes'.\n",
    "  return((prob_agreement - prob_expected)/(1-(prob_expected)))\n",
    "}\n",
    "\n",
    "#\n",
    "# Compute specificity and sensitivity\n",
    "getFprTpr<- function(actuals, predictedScores, threshold=0.5){\n",
    "  return(list(1-specificity(actuals=actuals, predictedScores=predictedScores, threshold=threshold),\n",
    "              sensitivity(actuals=actuals, predictedScores=predictedScores, threshold=threshold)))\n",
    "}\n",
    "\n",
    "#\n",
    "WOE <- function(X, Y, valueOfGood=1){\n",
    "  woeTable <- WOETable(X=X, Y=Y, valueOfGood = valueOfGood)\n",
    "  return(woeTable[match(X, woeTable[, 1]), \"WOE\"])  # lookup corresponding value of WOE for each X in woeTable\n",
    "}\n",
    "\n",
    "#\n",
    "IV <- function(X, Y, valueOfGood=1){\n",
    "  woeTable <- WOETable(X=X, Y=Y, valueOfGood=valueOfGood)\n",
    "  iv <- sum(woeTable[, \"IV\"], na.rm=T)\n",
    "\n",
    "  # Descreve a habilidade preditiva\n",
    "  if(iv < 0.03) {\n",
    "    attr(iv, \"howgood\") <- \"Not Predictive\"\n",
    "  } else if(iv < 0.1) {\n",
    "    attr(iv, \"howgood\") <- \"Somewhat Predictive\"\n",
    "  } else {\n",
    "    attr(iv, \"howgood\") <- \"Highly Predictive\"\n",
    "  }\n",
    "  return(iv)  # Procura o valor correspondente de WOE para cada X (elemento) em woeTable\n",
    "}\n",
    "\n",
    "#\n",
    "optimalCutoff <- function(actuals, predictedScores, optimiseFor=\"misclasserror\", returnDiagnostics=FALSE){\n",
    "  # inicializa o dataframe de diagnóstico para estudar o efeito de vários valores de corte.\n",
    "  sequence <- seq(max(predictedScores), min(predictedScores), -0.01)\n",
    "  sensMat <- data.frame(CUTOFF=sequence, FPR= numeric(length(sequence)),TPR= numeric(length(sequence)), YOUDENSINDEX=numeric(length(sequence)))\n",
    "  sensMat[, c(2:3)] <- as.data.frame(t(mapply(getFprTpr, threshold=sequence, MoreArgs=list(actuals=actuals, predictedScores=predictedScores))))\n",
    "  sensMat$YOUDENSINDEX <- mapply(youdensIndex, threshold=sequence, MoreArgs=list(actuals=actuals, predictedScores=predictedScores))\n",
    "  sensMat$SPECIFICITY <- (1 - as.numeric(sensMat$FPR))\n",
    "  sensMat$MISCLASSERROR <- mapply(misClassError, threshold=sequence, MoreArgs=list(actuals=actuals, predictedScores=predictedScores))\n",
    "\n",
    "  # Seleciona o corte\n",
    "  if(optimiseFor==\"Both\"){\n",
    "    rowIndex <- which(sensMat$YOUDENSINDEX == max(as.numeric(sensMat$YOUDENSINDEX)))[1]  # escolha o corte máximo\n",
    "  }else if(optimiseFor==\"Ones\"){\n",
    "    rowIndex <- which(sensMat$TPR == max(as.numeric(sensMat$TPR)))[1]  # escolha o corte máximo\n",
    "  }else if(optimiseFor==\"Zeros\"){\n",
    "    rowIndex <- tail(which(sensMat$SPECIFICITY == max(as.numeric(sensMat$SPECIFICITY))), 1)  # escolha o corte mínimo\n",
    "  }else if(optimiseFor==\"misclasserror\"){\n",
    "    rowIndex <- tail(which(sensMat$MISCLASSERROR == min(as.numeric(sensMat$MISCLASSERROR))), 1)  #  escolha o corte mínimo\n",
    "  }\n",
    "\n",
    "  # O que a função deve retornar\n",
    "  if(!returnDiagnostics){\n",
    "    return(sensMat$CUTOFF[rowIndex])\n",
    "  } else {\n",
    "    output <- vector(length=6, mode=\"list\")  # Inicialize a saída de diagnóstico\n",
    "    names(output) <- c(\"optimalCutoff\", \"sensitivityTable\", \"misclassificationError\", \"TPR\", \"FPR\", \"Specificity\")  # Nomeando os elementos\n",
    "    output$optimalCutoff <- sensMat$CUTOFF[rowIndex]\n",
    "    output$sensitivityTable <- sensMat\n",
    "    output$misclassificationError <- misClassError(actuals, predictedScores, threshold=sensMat$CUTOFF[rowIndex])\n",
    "    output$TPR <- getFprTpr(actuals, predictedScores, threshold=sensMat$CUTOFF[rowIndex])[[2]]\n",
    "    output$FPR <- getFprTpr(actuals, predictedScores, threshold=sensMat$CUTOFF[rowIndex])[[1]]\n",
    "    output$Specificity <- sensMat$SPECIFICITY[rowIndex]\n",
    "    return(output)\n",
    "  }\n",
    "}\n",
    "\n",
    "# \n",
    "AUROC <- function(actuals, predictedScores){\n",
    "  # Identificando o número de linhas no objeto\n",
    "  numrow = length(seq(max(predictedScores, 1, na.rm=T), (min(predictedScores, 0, na.rm=T)-0.02), by=-0.02))\n",
    "\n",
    "  # Crie os valores dos eixos X e Y em um dataframe\n",
    "  df <- as.data.frame(matrix(numeric(numrow*2), ncol=2))  # Inicializando\n",
    "  names(df) <- c(\"One_minus_specificity\", \"sensitivity\")  # Nomeando as colunas\n",
    "  rowcount = 1\n",
    "\n",
    "  for (threshold in seq(max(predictedScores, 1, na.rm=T), (min(predictedScores, 0, na.rm=T)-0.02), by=-0.02)){\n",
    "    df[rowcount, ] <- getFprTpr(actuals=actuals, predictedScores=predictedScores, threshold=threshold)\n",
    "    rowcount <- rowcount + 1\n",
    "  }\n",
    "\n",
    "  df <- data.frame(df, Threshold=seq(max(predictedScores, 1, na.rm=T), (min(predictedScores, 0, na.rm=T)-0.02), by=-0.02))  # Anexando Limite\n",
    "\n",
    "  # Calculando a Área sob a Curva ROC.\n",
    "  auROC <- 0  # Inicializando\n",
    "  for(point in c(2:nrow(df))) {\n",
    "    x1 <- df[point-1, 1]\n",
    "    x2 <- df[point, 1]\n",
    "    y1 <- df[point-1, 2]\n",
    "    y2 <- df[point, 2]\n",
    "    # cat(\"x1, x2, y1, y2:\", x1, x2, y1, y2)\n",
    "\n",
    "    # Computando a area da figura rect_area\n",
    "    rect_x <- x2 - x1\n",
    "    rect_y <- y1\n",
    "    rect_area <- rect_x * rect_y\n",
    "    # cat(\"rect_x, rect_y, rect_area:\", rect_x, rect_y, rect_area)\n",
    "\n",
    "    # Computando a area do triangulo\n",
    "    triangle_area <- rect_x * (y2-y1) * 0.5\n",
    "    currArea <- rect_area + triangle_area\n",
    "    auROC <- auROC + currArea\n",
    "  }\n",
    "  totalArea <- (max(df[, 1]) * max(df[, 2]))\n",
    "  return(auROC/totalArea)  # auROC/totalArea\n",
    "}\n",
    "\n",
    "\n",
    "#\n",
    "plotROC <- function(actuals, predictedScores,TITLE,Show.labels=F, returnSensitivityMat=F){\n",
    "\n",
    "  One_minus_specificity <- Threshold.show <- NULL  # setting to NULL to avoid NOTE while doing devtools::check\n",
    "\n",
    "  # get the number of rows in df\n",
    "  numrow = length(seq(max(predictedScores, 1, na.rm=T), (min(predictedScores, 0, na.rm=T)-0.02), by=-0.02))\n",
    "\n",
    "  # create the x(True positive) and y(False positive) axis values in a df\n",
    "  df <- as.data.frame(matrix(numeric(numrow*2), ncol=2))# initialise\n",
    "  names(df) <- c(\"One_minus_specificity\", \"sensitivity\")  # give col names.\n",
    "  rowcount = 1\n",
    "\n",
    "  for (threshold in seq(max(predictedScores, 1, na.rm=T), (min(predictedScores, 0, na.rm=T)-0.02), by=-0.02)){\n",
    "    df[rowcount, ] <- getFprTpr(actuals=actuals, predictedScores=predictedScores, threshold=threshold)\n",
    "    rowcount <- rowcount + 1\n",
    "  }\n",
    "\n",
    "  AREAROC <- AUROC(actuals=actuals, predictedScores=predictedScores)  # compute area under ROC\n",
    "\n",
    "  df <- data.frame(df, Threshold=seq(max(predictedScores, 1, na.rm=T), (min(predictedScores, 0, na.rm=T)-0.02), by=-0.02))  # append threshold\n",
    "\n",
    "  df$Threshold.show <- rep(NA, nrow(df))\n",
    "  # Adding Thresholds to show.\n",
    "  for (rownum in c(2:nrow(df))){\n",
    "    if(df[rownum, 1] != df[rownum-1, 1]  |  df[rownum, 2] != df[rownum-1, 2]){\n",
    "      df$Threshold.show[rownum] <-  df$Threshold[rownum]\n",
    "    }\n",
    "  }\n",
    "\n",
    "  COLOR<-ifelse(AREAROC<0.1,'darkred',\n",
    "          ifelse(AREAROC>=0.1 & AREAROC<0.2,'red',\n",
    "          ifelse(AREAROC>=0.2 & AREAROC<0.3,'orange',\n",
    "          ifelse(AREAROC>=0.3 & AREAROC<0.4,'yellow',\n",
    "          ifelse(AREAROC>=0.4 & AREAROC<0.5,'khaki1',\n",
    "          ifelse(AREAROC>=0.5 & AREAROC<0.6,'lightcyan',\n",
    "          ifelse(AREAROC>=0.6 & AREAROC<0.7,'skyblue1',\n",
    "          ifelse(AREAROC>=0.7 & AREAROC<0.8,'steelblue',\n",
    "          ifelse(AREAROC>=0.8 & AREAROC<0.9,'blue','midnightblue')))))))))\n",
    "  # Plot it\n",
    "  bp <- ggplot(df, aes(One_minus_specificity, sensitivity, label=Threshold.show))\n",
    "\n",
    "\n",
    "  # If Show.labels is TRUE, then display the labels.\n",
    "  if(!Show.labels){\n",
    "    print(bp + geom_ribbon(color=COLOR, fill=COLOR, aes(ymin=0, ymax=sensitivity)) +\n",
    "      labs(title=TITLE,subtitle=\"ROC Curve\", x=\"1-Specificity (FPR)\", y=\"Sensitivity (TPR)\") +\n",
    "      annotate(\"text\", label=paste(\"AUROC:\", round(AREAROC, 4)), x=0.55, y=0.35, colour=\"white\", size=8) +\n",
    "      theme(legend.position=\"none\",\n",
    "            plot.title=element_text(size=20, colour = \"black\"),\n",
    "            axis.title.x=element_text(size=15, colour = \"black\"),\n",
    "            axis.title.y=element_text(size=15, colour = \"black\")) + coord_cartesian(xlim=c(0,1), ylim = c(0,1)))\n",
    "  } else {\n",
    "    print(bp + geom_ribbon(color=COLOR, fill=COLOR, aes(ymin=0, ymax=sensitivity)) +\n",
    "      labs(title=TITLE,subtitle=\"ROC Curve\", x=\"1-Specificity (FPR)\", y=\"Sensitivity (TPR)\") +\n",
    "      annotate(\"text\", label=paste(\"AUROC:\", round(AREAROC, 4)), x=0.55, y=0.35, colour=\"white\", size=8) +\n",
    "      theme(legend.position=\"none\",\n",
    "            plot.title=element_text(size=20, colour = \"black\"),\n",
    "            axis.title.x=element_text(size=15, colour = \"black\"),\n",
    "            axis.title.y=element_text(size=15, colour = \"black\")) +  geom_text(aes(size=0.1)) + coord_cartesian(xlim=c(0,1), ylim = c(0,1)))\n",
    "  }\n",
    "\n",
    "  if(returnSensitivityMat){\n",
    "    return(df[, c(1:3)])\n",
    "  }\n",
    "\n",
    "}\n"
   ]
  },
  {
   "cell_type": "markdown",
   "metadata": {},
   "source": [
    "#### Leitura de Shapefile ####"
   ]
  },
  {
   "cell_type": "code",
   "execution_count": 5,
   "metadata": {
    "vscode": {
     "languageId": "r"
    }
   },
   "outputs": [
    {
     "name": "stderr",
     "output_type": "stream",
     "text": [
      "Warning message in OGRSpatialRef(dsn, layer, morphFromESRI = morphFromESRI, dumpSRS = dumpSRS, :\n",
      "“Discarded datum Sistema_de_Referencia_Geocentrico_para_las_AmericaS_2000 in Proj4 definition: +proj=longlat +ellps=GRS80 +towgs84=0,0,0,0,0,0,0 +no_defs”\n"
     ]
    },
    {
     "name": "stdout",
     "output_type": "stream",
     "text": [
      "OGR data source with driver: ESRI Shapefile \n",
      "Source: \"/media/hellgate/16D7D0A761E2DB6A/MEGA/Shapefiles/Br_2019/br_municipios/BR_Municipios_2019.shp\", layer: \"BR_Municipios_2019\"\n",
      "with 5572 features\n",
      "It has 4 fields\n"
     ]
    },
    {
     "name": "stderr",
     "output_type": "stream",
     "text": [
      "Warning message in OGRSpatialRef(dsn, layer, morphFromESRI = morphFromESRI, dumpSRS = dumpSRS, :\n",
      "“Discarded datum Sistema_de_Referencia_Geocentrico_para_las_AmericaS_2000 in Proj4 definition: +proj=longlat +ellps=GRS80 +towgs84=0,0,0,0,0,0,0 +no_defs”\n"
     ]
    },
    {
     "name": "stdout",
     "output_type": "stream",
     "text": [
      "OGR data source with driver: ESRI Shapefile \n",
      "Source: \"/media/hellgate/16D7D0A761E2DB6A/MEGA/Shapefiles/Br_uf_5000/uf_5000.shp\", layer: \"uf_5000\"\n",
      "with 30 features\n",
      "It has 7 fields\n"
     ]
    }
   ],
   "source": [
    "map0 <- readOGR('/media/hellgate/16D7D0A761E2DB6A/MEGA/Shapefiles/Br_2019/br_municipios/BR_Municipios_2019.shp') # Shapefile referente aos municipios brasileiros\n",
    "\n",
    "map_bac <- readOGR('/media/hellgate/16D7D0A761E2DB6A/MEGA/Shapefiles/Br_uf_5000/uf_5000.shp') # Shapefile referente as unidades federativas"
   ]
  },
  {
   "cell_type": "markdown",
   "metadata": {},
   "source": [
    "#### Leitura das informações referente ao desfecho e climáticas ####"
   ]
  },
  {
   "cell_type": "code",
   "execution_count": 6,
   "metadata": {
    "vscode": {
     "languageId": "r"
    }
   },
   "outputs": [],
   "source": [
    "Arbo<-read.xlsx('../2-Input/tx_incid_arbovirosesAa_2017a2022.xlsx') # Referente a Arboviroses\n",
    "\n",
    "hurs<-read.csv(file='../2-Input/Indicador_Simples_HURS.csv',sep=';',dec=',',header=T) # Umidade Relativa\n",
    "sdii<-read.csv(file='../2-Input/Indicador_Simples_SDII.csv',sep=';',dec=',',header=T)  # Indice Simples de precipitação \n",
    "dift<-read.csv(file='../2-Input/Indicador_Simples_DIFT.csv',sep=';',dec=',',header=T)  # Amplitude Térmica \n",
    "tasmax<-read.csv(file='../2-Input/Indicador_Simples_TASMAX.csv',sep=';',dec=',',header=T) # Temperatura Máxima\n",
    "tasmin<-read.csv(file='../2-Input/Indicador_Simples_TASMIN.csv',sep=';',dec=',',header=T) # Temperatura Mínima \n",
    "oc_dur<-read.csv(file='../2-Input/Indicador_Simples_OC_duracao.csv',sep=';',dec=',',header=T) # Duração Máxima de Onda de Calor\n",
    "oc_con<-read.csv(file='../2-Input/Indicador_Simples_OC_contagem.csv',sep=';',dec=',',header=T) # Número de Ocorrência de Ondas de Calor"
   ]
  },
  {
   "cell_type": "code",
   "execution_count": 7,
   "metadata": {
    "vscode": {
     "languageId": "r"
    }
   },
   "outputs": [
    {
     "data": {
      "text/html": [
       "<table class=\"dataframe\">\n",
       "<caption>A data.frame: 6 × 46</caption>\n",
       "<thead>\n",
       "\t<tr><th></th><th scope=col>geocode6</th><th scope=col>geocode7</th><th scope=col>Municipio</th><th scope=col>UF</th><th scope=col>BIOMA</th><th scope=col>d_2017</th><th scope=col>d_2018</th><th scope=col>d_2019</th><th scope=col>d_2020</th><th scope=col>d_2021</th><th scope=col>⋯</th><th scope=col>soma_not_2021</th><th scope=col>soma_not_2022</th><th scope=col>soma_not_tot</th><th scope=col>tx_inc_arbo2017</th><th scope=col>tx_inc_arbo2018</th><th scope=col>tx_inc_arbo2019</th><th scope=col>tx_inc_arbo2020</th><th scope=col>tx_inc_arbo2021</th><th scope=col>tx_inc_arbo2022</th><th scope=col>média_tx_period</th></tr>\n",
       "\t<tr><th></th><th scope=col>&lt;dbl&gt;</th><th scope=col>&lt;dbl&gt;</th><th scope=col>&lt;chr&gt;</th><th scope=col>&lt;chr&gt;</th><th scope=col>&lt;chr&gt;</th><th scope=col>&lt;dbl&gt;</th><th scope=col>&lt;dbl&gt;</th><th scope=col>&lt;dbl&gt;</th><th scope=col>&lt;dbl&gt;</th><th scope=col>&lt;dbl&gt;</th><th scope=col>⋯</th><th scope=col>&lt;dbl&gt;</th><th scope=col>&lt;dbl&gt;</th><th scope=col>&lt;dbl&gt;</th><th scope=col>&lt;dbl&gt;</th><th scope=col>&lt;dbl&gt;</th><th scope=col>&lt;dbl&gt;</th><th scope=col>&lt;dbl&gt;</th><th scope=col>&lt;dbl&gt;</th><th scope=col>&lt;dbl&gt;</th><th scope=col>&lt;dbl&gt;</th></tr>\n",
       "</thead>\n",
       "<tbody>\n",
       "\t<tr><th scope=row>1</th><td>110001</td><td>1100015</td><td>ALTA FLORESTA D'OESTE</td><td>RO</td><td>Amazônia</td><td> 16</td><td> 4</td><td>230</td><td>  9</td><td>  4</td><td>⋯</td><td>  4</td><td> 400</td><td> 670</td><td>  66.83178</td><td> 17.26594</td><td>1028.54652</td><td>  39.59873</td><td> 17.76514</td><td>1860.8979</td><td>505.1510</td></tr>\n",
       "\t<tr><th scope=row>2</th><td>110002</td><td>1100023</td><td>ARIQUEMES            </td><td>RO</td><td>Amazônia</td><td> 61</td><td>11</td><td> 33</td><td>157</td><td> 55</td><td>⋯</td><td> 63</td><td>1115</td><td>1498</td><td>  62.41558</td><td> 15.07045</td><td>  42.64669</td><td> 174.39259</td><td> 56.68118</td><td>1151.4670</td><td>250.4456</td></tr>\n",
       "\t<tr><th scope=row>3</th><td>110003</td><td>1100031</td><td>CABIXI               </td><td>RO</td><td>Amazônia</td><td>  5</td><td> 4</td><td> 94</td><td> 11</td><td>  1</td><td>⋯</td><td>  1</td><td>  25</td><td> 154</td><td>  80.33419</td><td> 73.55645</td><td>2033.13253</td><td> 212.02776</td><td> 19.73554</td><td> 466.1570</td><td>480.8239</td></tr>\n",
       "\t<tr><th scope=row>4</th><td>110004</td><td>1100049</td><td>CACOAL               </td><td>RO</td><td>Amazônia</td><td> 25</td><td>21</td><td> 25</td><td> 94</td><td>206</td><td>⋯</td><td>214</td><td>2085</td><td>2520</td><td>  38.41504</td><td> 44.80445</td><td>  56.23309</td><td> 117.58816</td><td>247.63933</td><td>2399.4476</td><td>484.0213</td></tr>\n",
       "\t<tr><th scope=row>5</th><td>110005</td><td>1100056</td><td>CEREJEIRAS           </td><td>RO</td><td>Amazônia</td><td>254</td><td>10</td><td> 14</td><td>158</td><td>  5</td><td>⋯</td><td>  6</td><td>  39</td><td> 514</td><td>1511.09624</td><td> 60.81245</td><td> 128.65282</td><td>1030.60973</td><td> 37.29488</td><td> 245.4374</td><td>502.3173</td></tr>\n",
       "\t<tr><th scope=row>6</th><td>110006</td><td>1100064</td><td>COLORADO DO OESTE    </td><td>RO</td><td>Amazônia</td><td> 15</td><td>17</td><td> 11</td><td> 70</td><td>  8</td><td>⋯</td><td> 23</td><td>  11</td><td> 148</td><td>  81.22597</td><td>110.92623</td><td>  69.26080</td><td> 450.33453</td><td>151.18649</td><td>  70.2292</td><td>155.5272</td></tr>\n",
       "</tbody>\n",
       "</table>\n"
      ],
      "text/latex": [
       "A data.frame: 6 × 46\n",
       "\\begin{tabular}{r|lllllllllllllllllllll}\n",
       "  & geocode6 & geocode7 & Municipio & UF & BIOMA & d\\_2017 & d\\_2018 & d\\_2019 & d\\_2020 & d\\_2021 & ⋯ & soma\\_not\\_2021 & soma\\_not\\_2022 & soma\\_not\\_tot & tx\\_inc\\_arbo2017 & tx\\_inc\\_arbo2018 & tx\\_inc\\_arbo2019 & tx\\_inc\\_arbo2020 & tx\\_inc\\_arbo2021 & tx\\_inc\\_arbo2022 & média\\_tx\\_period\\\\\n",
       "  & <dbl> & <dbl> & <chr> & <chr> & <chr> & <dbl> & <dbl> & <dbl> & <dbl> & <dbl> & ⋯ & <dbl> & <dbl> & <dbl> & <dbl> & <dbl> & <dbl> & <dbl> & <dbl> & <dbl> & <dbl>\\\\\n",
       "\\hline\n",
       "\t1 & 110001 & 1100015 & ALTA FLORESTA D'OESTE & RO & Amazônia &  16 &  4 & 230 &   9 &   4 & ⋯ &   4 &  400 &  670 &   66.83178 &  17.26594 & 1028.54652 &   39.59873 &  17.76514 & 1860.8979 & 505.1510\\\\\n",
       "\t2 & 110002 & 1100023 & ARIQUEMES             & RO & Amazônia &  61 & 11 &  33 & 157 &  55 & ⋯ &  63 & 1115 & 1498 &   62.41558 &  15.07045 &   42.64669 &  174.39259 &  56.68118 & 1151.4670 & 250.4456\\\\\n",
       "\t3 & 110003 & 1100031 & CABIXI                & RO & Amazônia &   5 &  4 &  94 &  11 &   1 & ⋯ &   1 &   25 &  154 &   80.33419 &  73.55645 & 2033.13253 &  212.02776 &  19.73554 &  466.1570 & 480.8239\\\\\n",
       "\t4 & 110004 & 1100049 & CACOAL                & RO & Amazônia &  25 & 21 &  25 &  94 & 206 & ⋯ & 214 & 2085 & 2520 &   38.41504 &  44.80445 &   56.23309 &  117.58816 & 247.63933 & 2399.4476 & 484.0213\\\\\n",
       "\t5 & 110005 & 1100056 & CEREJEIRAS            & RO & Amazônia & 254 & 10 &  14 & 158 &   5 & ⋯ &   6 &   39 &  514 & 1511.09624 &  60.81245 &  128.65282 & 1030.60973 &  37.29488 &  245.4374 & 502.3173\\\\\n",
       "\t6 & 110006 & 1100064 & COLORADO DO OESTE     & RO & Amazônia &  15 & 17 &  11 &  70 &   8 & ⋯ &  23 &   11 &  148 &   81.22597 & 110.92623 &   69.26080 &  450.33453 & 151.18649 &   70.2292 & 155.5272\\\\\n",
       "\\end{tabular}\n"
      ],
      "text/markdown": [
       "\n",
       "A data.frame: 6 × 46\n",
       "\n",
       "| <!--/--> | geocode6 &lt;dbl&gt; | geocode7 &lt;dbl&gt; | Municipio &lt;chr&gt; | UF &lt;chr&gt; | BIOMA &lt;chr&gt; | d_2017 &lt;dbl&gt; | d_2018 &lt;dbl&gt; | d_2019 &lt;dbl&gt; | d_2020 &lt;dbl&gt; | d_2021 &lt;dbl&gt; | ⋯ ⋯ | soma_not_2021 &lt;dbl&gt; | soma_not_2022 &lt;dbl&gt; | soma_not_tot &lt;dbl&gt; | tx_inc_arbo2017 &lt;dbl&gt; | tx_inc_arbo2018 &lt;dbl&gt; | tx_inc_arbo2019 &lt;dbl&gt; | tx_inc_arbo2020 &lt;dbl&gt; | tx_inc_arbo2021 &lt;dbl&gt; | tx_inc_arbo2022 &lt;dbl&gt; | média_tx_period &lt;dbl&gt; |\n",
       "|---|---|---|---|---|---|---|---|---|---|---|---|---|---|---|---|---|---|---|---|---|---|\n",
       "| 1 | 110001 | 1100015 | ALTA FLORESTA D'OESTE | RO | Amazônia |  16 |  4 | 230 |   9 |   4 | ⋯ |   4 |  400 |  670 |   66.83178 |  17.26594 | 1028.54652 |   39.59873 |  17.76514 | 1860.8979 | 505.1510 |\n",
       "| 2 | 110002 | 1100023 | ARIQUEMES             | RO | Amazônia |  61 | 11 |  33 | 157 |  55 | ⋯ |  63 | 1115 | 1498 |   62.41558 |  15.07045 |   42.64669 |  174.39259 |  56.68118 | 1151.4670 | 250.4456 |\n",
       "| 3 | 110003 | 1100031 | CABIXI                | RO | Amazônia |   5 |  4 |  94 |  11 |   1 | ⋯ |   1 |   25 |  154 |   80.33419 |  73.55645 | 2033.13253 |  212.02776 |  19.73554 |  466.1570 | 480.8239 |\n",
       "| 4 | 110004 | 1100049 | CACOAL                | RO | Amazônia |  25 | 21 |  25 |  94 | 206 | ⋯ | 214 | 2085 | 2520 |   38.41504 |  44.80445 |   56.23309 |  117.58816 | 247.63933 | 2399.4476 | 484.0213 |\n",
       "| 5 | 110005 | 1100056 | CEREJEIRAS            | RO | Amazônia | 254 | 10 |  14 | 158 |   5 | ⋯ |   6 |   39 |  514 | 1511.09624 |  60.81245 |  128.65282 | 1030.60973 |  37.29488 |  245.4374 | 502.3173 |\n",
       "| 6 | 110006 | 1100064 | COLORADO DO OESTE     | RO | Amazônia |  15 | 17 |  11 |  70 |   8 | ⋯ |  23 |   11 |  148 |   81.22597 | 110.92623 |   69.26080 |  450.33453 | 151.18649 |   70.2292 | 155.5272 |\n",
       "\n"
      ],
      "text/plain": [
       "  geocode6 geocode7 Municipio             UF BIOMA    d_2017 d_2018 d_2019\n",
       "1 110001   1100015  ALTA FLORESTA D'OESTE RO Amazônia  16     4     230   \n",
       "2 110002   1100023  ARIQUEMES             RO Amazônia  61    11      33   \n",
       "3 110003   1100031  CABIXI                RO Amazônia   5     4      94   \n",
       "4 110004   1100049  CACOAL                RO Amazônia  25    21      25   \n",
       "5 110005   1100056  CEREJEIRAS            RO Amazônia 254    10      14   \n",
       "6 110006   1100064  COLORADO DO OESTE     RO Amazônia  15    17      11   \n",
       "  d_2020 d_2021 ⋯ soma_not_2021 soma_not_2022 soma_not_tot tx_inc_arbo2017\n",
       "1   9      4    ⋯   4            400           670           66.83178     \n",
       "2 157     55    ⋯  63           1115          1498           62.41558     \n",
       "3  11      1    ⋯   1             25           154           80.33419     \n",
       "4  94    206    ⋯ 214           2085          2520           38.41504     \n",
       "5 158      5    ⋯   6             39           514         1511.09624     \n",
       "6  70      8    ⋯  23             11           148           81.22597     \n",
       "  tx_inc_arbo2018 tx_inc_arbo2019 tx_inc_arbo2020 tx_inc_arbo2021\n",
       "1  17.26594       1028.54652        39.59873       17.76514      \n",
       "2  15.07045         42.64669       174.39259       56.68118      \n",
       "3  73.55645       2033.13253       212.02776       19.73554      \n",
       "4  44.80445         56.23309       117.58816      247.63933      \n",
       "5  60.81245        128.65282      1030.60973       37.29488      \n",
       "6 110.92623         69.26080       450.33453      151.18649      \n",
       "  tx_inc_arbo2022 média_tx_period\n",
       "1 1860.8979       505.1510       \n",
       "2 1151.4670       250.4456       \n",
       "3  466.1570       480.8239       \n",
       "4 2399.4476       484.0213       \n",
       "5  245.4374       502.3173       \n",
       "6   70.2292       155.5272       "
      ]
     },
     "metadata": {},
     "output_type": "display_data"
    },
    {
     "data": {
      "text/html": [
       "<style>\n",
       ".list-inline {list-style: none; margin:0; padding: 0}\n",
       ".list-inline>li {display: inline-block}\n",
       ".list-inline>li:not(:last-child)::after {content: \"\\00b7\"; padding: 0 .5ex}\n",
       "</style>\n",
       "<ol class=list-inline><li>'geocode6'</li><li>'geocode7'</li><li>'Municipio'</li><li>'UF'</li><li>'BIOMA'</li><li>'d_2017'</li><li>'d_2018'</li><li>'d_2019'</li><li>'d_2020'</li><li>'d_2021'</li><li>'d_2022'</li><li>'d_total_period'</li><li>'c_2017'</li><li>'c_2018'</li><li>'c_2019'</li><li>'c_2020'</li><li>'c_2021'</li><li>'c_2022'</li><li>'c_total_period'</li><li>'z_2017'</li><li>'z_2018'</li><li>'z_2019'</li><li>'z_2020'</li><li>'z_2021'</li><li>'z_2022'</li><li>'z_total_period'</li><li>'pop2017'</li><li>'pop2018'</li><li>'pop2019'</li><li>'pop2020'</li><li>'pop2021'</li><li>'pop2022'</li><li>'soma_not_2017'</li><li>'soma_not_2018'</li><li>'soma_not_2019'</li><li>'soma_not_2020'</li><li>'soma_not_2021'</li><li>'soma_not_2022'</li><li>'soma_not_tot'</li><li>'tx_inc_arbo2017'</li><li>'tx_inc_arbo2018'</li><li>'tx_inc_arbo2019'</li><li>'tx_inc_arbo2020'</li><li>'tx_inc_arbo2021'</li><li>'tx_inc_arbo2022'</li><li>'média_tx_period'</li></ol>\n"
      ],
      "text/latex": [
       "\\begin{enumerate*}\n",
       "\\item 'geocode6'\n",
       "\\item 'geocode7'\n",
       "\\item 'Municipio'\n",
       "\\item 'UF'\n",
       "\\item 'BIOMA'\n",
       "\\item 'd\\_2017'\n",
       "\\item 'd\\_2018'\n",
       "\\item 'd\\_2019'\n",
       "\\item 'd\\_2020'\n",
       "\\item 'd\\_2021'\n",
       "\\item 'd\\_2022'\n",
       "\\item 'd\\_total\\_period'\n",
       "\\item 'c\\_2017'\n",
       "\\item 'c\\_2018'\n",
       "\\item 'c\\_2019'\n",
       "\\item 'c\\_2020'\n",
       "\\item 'c\\_2021'\n",
       "\\item 'c\\_2022'\n",
       "\\item 'c\\_total\\_period'\n",
       "\\item 'z\\_2017'\n",
       "\\item 'z\\_2018'\n",
       "\\item 'z\\_2019'\n",
       "\\item 'z\\_2020'\n",
       "\\item 'z\\_2021'\n",
       "\\item 'z\\_2022'\n",
       "\\item 'z\\_total\\_period'\n",
       "\\item 'pop2017'\n",
       "\\item 'pop2018'\n",
       "\\item 'pop2019'\n",
       "\\item 'pop2020'\n",
       "\\item 'pop2021'\n",
       "\\item 'pop2022'\n",
       "\\item 'soma\\_not\\_2017'\n",
       "\\item 'soma\\_not\\_2018'\n",
       "\\item 'soma\\_not\\_2019'\n",
       "\\item 'soma\\_not\\_2020'\n",
       "\\item 'soma\\_not\\_2021'\n",
       "\\item 'soma\\_not\\_2022'\n",
       "\\item 'soma\\_not\\_tot'\n",
       "\\item 'tx\\_inc\\_arbo2017'\n",
       "\\item 'tx\\_inc\\_arbo2018'\n",
       "\\item 'tx\\_inc\\_arbo2019'\n",
       "\\item 'tx\\_inc\\_arbo2020'\n",
       "\\item 'tx\\_inc\\_arbo2021'\n",
       "\\item 'tx\\_inc\\_arbo2022'\n",
       "\\item 'média\\_tx\\_period'\n",
       "\\end{enumerate*}\n"
      ],
      "text/markdown": [
       "1. 'geocode6'\n",
       "2. 'geocode7'\n",
       "3. 'Municipio'\n",
       "4. 'UF'\n",
       "5. 'BIOMA'\n",
       "6. 'd_2017'\n",
       "7. 'd_2018'\n",
       "8. 'd_2019'\n",
       "9. 'd_2020'\n",
       "10. 'd_2021'\n",
       "11. 'd_2022'\n",
       "12. 'd_total_period'\n",
       "13. 'c_2017'\n",
       "14. 'c_2018'\n",
       "15. 'c_2019'\n",
       "16. 'c_2020'\n",
       "17. 'c_2021'\n",
       "18. 'c_2022'\n",
       "19. 'c_total_period'\n",
       "20. 'z_2017'\n",
       "21. 'z_2018'\n",
       "22. 'z_2019'\n",
       "23. 'z_2020'\n",
       "24. 'z_2021'\n",
       "25. 'z_2022'\n",
       "26. 'z_total_period'\n",
       "27. 'pop2017'\n",
       "28. 'pop2018'\n",
       "29. 'pop2019'\n",
       "30. 'pop2020'\n",
       "31. 'pop2021'\n",
       "32. 'pop2022'\n",
       "33. 'soma_not_2017'\n",
       "34. 'soma_not_2018'\n",
       "35. 'soma_not_2019'\n",
       "36. 'soma_not_2020'\n",
       "37. 'soma_not_2021'\n",
       "38. 'soma_not_2022'\n",
       "39. 'soma_not_tot'\n",
       "40. 'tx_inc_arbo2017'\n",
       "41. 'tx_inc_arbo2018'\n",
       "42. 'tx_inc_arbo2019'\n",
       "43. 'tx_inc_arbo2020'\n",
       "44. 'tx_inc_arbo2021'\n",
       "45. 'tx_inc_arbo2022'\n",
       "46. 'média_tx_period'\n",
       "\n",
       "\n"
      ],
      "text/plain": [
       " [1] \"geocode6\"        \"geocode7\"        \"Municipio\"       \"UF\"             \n",
       " [5] \"BIOMA\"           \"d_2017\"          \"d_2018\"          \"d_2019\"         \n",
       " [9] \"d_2020\"          \"d_2021\"          \"d_2022\"          \"d_total_period\" \n",
       "[13] \"c_2017\"          \"c_2018\"          \"c_2019\"          \"c_2020\"         \n",
       "[17] \"c_2021\"          \"c_2022\"          \"c_total_period\"  \"z_2017\"         \n",
       "[21] \"z_2018\"          \"z_2019\"          \"z_2020\"          \"z_2021\"         \n",
       "[25] \"z_2022\"          \"z_total_period\"  \"pop2017\"         \"pop2018\"        \n",
       "[29] \"pop2019\"         \"pop2020\"         \"pop2021\"         \"pop2022\"        \n",
       "[33] \"soma_not_2017\"   \"soma_not_2018\"   \"soma_not_2019\"   \"soma_not_2020\"  \n",
       "[37] \"soma_not_2021\"   \"soma_not_2022\"   \"soma_not_tot\"    \"tx_inc_arbo2017\"\n",
       "[41] \"tx_inc_arbo2018\" \"tx_inc_arbo2019\" \"tx_inc_arbo2020\" \"tx_inc_arbo2021\"\n",
       "[45] \"tx_inc_arbo2022\" \"média_tx_period\""
      ]
     },
     "metadata": {},
     "output_type": "display_data"
    },
    {
     "data": {
      "text/html": [
       "<style>\n",
       ".list-inline {list-style: none; margin:0; padding: 0}\n",
       ".list-inline>li {display: inline-block}\n",
       ".list-inline>li:not(:last-child)::after {content: \"\\00b7\"; padding: 0 .5ex}\n",
       "</style>\n",
       "<ol class=list-inline><li>5570</li><li>46</li></ol>\n"
      ],
      "text/latex": [
       "\\begin{enumerate*}\n",
       "\\item 5570\n",
       "\\item 46\n",
       "\\end{enumerate*}\n"
      ],
      "text/markdown": [
       "1. 5570\n",
       "2. 46\n",
       "\n",
       "\n"
      ],
      "text/plain": [
       "[1] 5570   46"
      ]
     },
     "metadata": {},
     "output_type": "display_data"
    }
   ],
   "source": [
    "head(Arbo)\n",
    "colnames(Arbo)\n",
    "dim(Arbo)"
   ]
  },
  {
   "cell_type": "code",
   "execution_count": 8,
   "metadata": {
    "vscode": {
     "languageId": "r"
    }
   },
   "outputs": [
    {
     "data": {
      "text/html": [
       "<table class=\"dataframe\">\n",
       "<caption>A data.frame: 6 × 7</caption>\n",
       "<thead>\n",
       "\t<tr><th></th><th scope=col>CD_GEOCMU</th><th scope=col>NM_MUNICIP</th><th scope=col>Hist</th><th scope=col>RCP45.2030</th><th scope=col>RCP45.2050</th><th scope=col>RCP85.2030</th><th scope=col>RCP85.2050</th></tr>\n",
       "\t<tr><th></th><th scope=col>&lt;int&gt;</th><th scope=col>&lt;chr&gt;</th><th scope=col>&lt;dbl&gt;</th><th scope=col>&lt;dbl&gt;</th><th scope=col>&lt;dbl&gt;</th><th scope=col>&lt;dbl&gt;</th><th scope=col>&lt;dbl&gt;</th></tr>\n",
       "</thead>\n",
       "<tbody>\n",
       "\t<tr><th scope=row>1</th><td>1100015</td><td>Alta Floresta D'Oeste</td><td>0.50</td><td>0.46</td><td>0.42</td><td>0.44</td><td>0.40</td></tr>\n",
       "\t<tr><th scope=row>2</th><td>1100023</td><td>Ariquemes            </td><td>0.50</td><td>0.45</td><td>0.41</td><td>0.43</td><td>0.39</td></tr>\n",
       "\t<tr><th scope=row>3</th><td>1100049</td><td>Cacoal               </td><td>0.41</td><td>0.38</td><td>0.33</td><td>0.35</td><td>0.31</td></tr>\n",
       "\t<tr><th scope=row>4</th><td>1100056</td><td>Cerejeiras           </td><td>0.44</td><td>0.41</td><td>0.37</td><td>0.38</td><td>0.35</td></tr>\n",
       "\t<tr><th scope=row>5</th><td>1100064</td><td>Colorado do Oeste    </td><td>0.46</td><td>0.42</td><td>0.38</td><td>0.39</td><td>0.36</td></tr>\n",
       "\t<tr><th scope=row>6</th><td>1100080</td><td>Costa Marques        </td><td>0.45</td><td>0.41</td><td>0.38</td><td>0.39</td><td>0.36</td></tr>\n",
       "</tbody>\n",
       "</table>\n"
      ],
      "text/latex": [
       "A data.frame: 6 × 7\n",
       "\\begin{tabular}{r|lllllll}\n",
       "  & CD\\_GEOCMU & NM\\_MUNICIP & Hist & RCP45.2030 & RCP45.2050 & RCP85.2030 & RCP85.2050\\\\\n",
       "  & <int> & <chr> & <dbl> & <dbl> & <dbl> & <dbl> & <dbl>\\\\\n",
       "\\hline\n",
       "\t1 & 1100015 & Alta Floresta D'Oeste & 0.50 & 0.46 & 0.42 & 0.44 & 0.40\\\\\n",
       "\t2 & 1100023 & Ariquemes             & 0.50 & 0.45 & 0.41 & 0.43 & 0.39\\\\\n",
       "\t3 & 1100049 & Cacoal                & 0.41 & 0.38 & 0.33 & 0.35 & 0.31\\\\\n",
       "\t4 & 1100056 & Cerejeiras            & 0.44 & 0.41 & 0.37 & 0.38 & 0.35\\\\\n",
       "\t5 & 1100064 & Colorado do Oeste     & 0.46 & 0.42 & 0.38 & 0.39 & 0.36\\\\\n",
       "\t6 & 1100080 & Costa Marques         & 0.45 & 0.41 & 0.38 & 0.39 & 0.36\\\\\n",
       "\\end{tabular}\n"
      ],
      "text/markdown": [
       "\n",
       "A data.frame: 6 × 7\n",
       "\n",
       "| <!--/--> | CD_GEOCMU &lt;int&gt; | NM_MUNICIP &lt;chr&gt; | Hist &lt;dbl&gt; | RCP45.2030 &lt;dbl&gt; | RCP45.2050 &lt;dbl&gt; | RCP85.2030 &lt;dbl&gt; | RCP85.2050 &lt;dbl&gt; |\n",
       "|---|---|---|---|---|---|---|---|\n",
       "| 1 | 1100015 | Alta Floresta D'Oeste | 0.50 | 0.46 | 0.42 | 0.44 | 0.40 |\n",
       "| 2 | 1100023 | Ariquemes             | 0.50 | 0.45 | 0.41 | 0.43 | 0.39 |\n",
       "| 3 | 1100049 | Cacoal                | 0.41 | 0.38 | 0.33 | 0.35 | 0.31 |\n",
       "| 4 | 1100056 | Cerejeiras            | 0.44 | 0.41 | 0.37 | 0.38 | 0.35 |\n",
       "| 5 | 1100064 | Colorado do Oeste     | 0.46 | 0.42 | 0.38 | 0.39 | 0.36 |\n",
       "| 6 | 1100080 | Costa Marques         | 0.45 | 0.41 | 0.38 | 0.39 | 0.36 |\n",
       "\n"
      ],
      "text/plain": [
       "  CD_GEOCMU NM_MUNICIP            Hist RCP45.2030 RCP45.2050 RCP85.2030\n",
       "1 1100015   Alta Floresta D'Oeste 0.50 0.46       0.42       0.44      \n",
       "2 1100023   Ariquemes             0.50 0.45       0.41       0.43      \n",
       "3 1100049   Cacoal                0.41 0.38       0.33       0.35      \n",
       "4 1100056   Cerejeiras            0.44 0.41       0.37       0.38      \n",
       "5 1100064   Colorado do Oeste     0.46 0.42       0.38       0.39      \n",
       "6 1100080   Costa Marques         0.45 0.41       0.38       0.39      \n",
       "  RCP85.2050\n",
       "1 0.40      \n",
       "2 0.39      \n",
       "3 0.31      \n",
       "4 0.35      \n",
       "5 0.36      \n",
       "6 0.36      "
      ]
     },
     "metadata": {},
     "output_type": "display_data"
    }
   ],
   "source": [
    "head(hurs)"
   ]
  },
  {
   "cell_type": "markdown",
   "metadata": {},
   "source": [
    "##### Criando dataframe a ser utilizado #####"
   ]
  },
  {
   "cell_type": "code",
   "execution_count": 9,
   "metadata": {
    "vscode": {
     "languageId": "r"
    }
   },
   "outputs": [],
   "source": [
    "datah<-data.frame(GEOCOD=hurs[,1],NM_MUN=hurs[,2],CAT=NA,PDMED=NA,PROB=NA,AMPT=NA,HURS=hurs[,3],RAIN=NA,TASMAX=NA,TASMIN=NA,WSDI_D=NA,WSDI_C=NA)\n",
    "\n",
    "data2030O<-data.frame(GEOCOD=hurs[,1],NM_MUN=hurs[,2],AMPT=NA,HURS=hurs[,4],RAIN=NA,TASMAX=NA,TASMIN=NA,WSDI_D=NA,WSDI_C=NA)\n",
    "\n",
    "data2050O<-data.frame(GEOCOD=hurs[,1],NM_MUN=hurs[,2],AMPT=NA,HURS=hurs[,5],RAIN=NA,TASMAX=NA,TASMIN=NA,WSDI_D=NA,WSDI_C=NA)\n",
    "\n",
    "data2030P<-data.frame(GEOCOD=hurs[,1],NM_MUN=hurs[,2],AMPT=NA,HURS=hurs[,6],RAIN=NA,TASMAX=NA,TASMIN=NA,WSDI_D=NA,WSDI_C=NA)\n",
    "\n",
    "data2050P<-data.frame(GEOCOD=hurs[,1],NM_MUN=hurs[,2],AMPT=NA,HURS=hurs[,7],RAIN=NA,TASMAX=NA,TASMIN=NA,WSDI_D=NA,WSDI_C=NA)\n"
   ]
  },
  {
   "cell_type": "markdown",
   "metadata": {},
   "source": [
    "##### Montando o Data.Frame #####"
   ]
  },
  {
   "cell_type": "code",
   "execution_count": 10,
   "metadata": {
    "vscode": {
     "languageId": "r"
    }
   },
   "outputs": [],
   "source": [
    "\n",
    "for(i in 1:NROW(datah)){\n",
    "\n",
    "\t{if(datah[i,1]==2605459) next}\n",
    "\n",
    "\tpos1<-which(datah[i,1]==Arbo[,2])\n",
    "\tpos2<-which(datah[i,1]==dift[,1])\n",
    "\tpos3<-which(datah[i,1]==sdii[,1])\n",
    "\tpos4<-which(datah[i,1]==tasmax[,1])\n",
    "\tpos5<-which(datah[i,1]==tasmin[,1])\n",
    "\tpos6<-which(datah[i,1]==oc_dur[,1])\n",
    "\tpos7<-which(datah[i,1]==oc_con[,1])\n",
    "\n",
    "\tdatah[i,4]<-mean(as.numeric(Arbo[pos1,40:45]),na.rm=T)\n",
    "\tdatah[i,6]<-dift[pos2,4]\t \t; datah[i,8]<-sdii[pos3,3]\t\t; datah[i,9]<-tasmax[pos4,3]\n",
    "    datah[i,10]<-tasmin[pos5,3]\t\t; datah[i,11]<-oc_dur[pos6,4]   ; datah[i,12]<-oc_con[pos7,4]\n",
    "\t\n",
    "    data2030O[i,3]<-dift[pos2,5] \t; data2030O[i,5]<-sdii[pos3,4] \t; data2030O[i,6]<-tasmax[pos4,4] \n",
    "    data2030O[i,7]<-tasmin[pos5,4] \t; data2030O[i,8]<-oc_dur[pos6,5]; data2030O[i,9]<-oc_con[pos7,5]\n",
    "\t\n",
    "    data2050O[i,3]<-dift[pos2,6] \t; data2050O[i,5]<-sdii[pos3,5] \t; data2050O[i,6]<-tasmax[pos4,5] \n",
    "\tdata2050O[i,7]<-tasmin[pos5,5] \t; data2050O[i,8]<-oc_dur[pos6,6]; data2050O[i,9]<-oc_con[pos7,6]\n",
    "\t\n",
    "    data2030P[i,3]<-dift[pos2,7] \t; data2030P[i,5]<-sdii[pos3,6] \t; data2030P[i,6]<-tasmax[pos4,6] \n",
    "\tdata2030P[i,7]<-tasmin[pos5,6]  ; data2030P[i,8]<-oc_dur[pos6,7]; data2030P[i,9]<-oc_con[pos7,7]\n",
    "\t\n",
    "    data2050P[i,3]<-dift[pos2,8] \t; data2050P[i,5]<-sdii[pos3,7] \t; data2050P[i,6]<-tasmax[pos4,7]\n",
    "\tdata2050P[i,7]<-tasmin[pos5,7]  ; data2050P[i,8]<-oc_dur[pos6,8]; data2050P[i,9]<-oc_con[pos7,8]\n",
    "}\n"
   ]
  },
  {
   "cell_type": "code",
   "execution_count": 11,
   "metadata": {
    "vscode": {
     "languageId": "r"
    }
   },
   "outputs": [
    {
     "data": {
      "text/html": [
       "<table class=\"dataframe\">\n",
       "<caption>A data.frame: 6 × 12</caption>\n",
       "<thead>\n",
       "\t<tr><th></th><th scope=col>GEOCOD</th><th scope=col>NM_MUN</th><th scope=col>CAT</th><th scope=col>PDMED</th><th scope=col>PROB</th><th scope=col>AMPT</th><th scope=col>HURS</th><th scope=col>RAIN</th><th scope=col>TASMAX</th><th scope=col>TASMIN</th><th scope=col>WSDI_D</th><th scope=col>WSDI_C</th></tr>\n",
       "\t<tr><th></th><th scope=col>&lt;int&gt;</th><th scope=col>&lt;chr&gt;</th><th scope=col>&lt;lgl&gt;</th><th scope=col>&lt;dbl&gt;</th><th scope=col>&lt;lgl&gt;</th><th scope=col>&lt;dbl&gt;</th><th scope=col>&lt;dbl&gt;</th><th scope=col>&lt;dbl&gt;</th><th scope=col>&lt;dbl&gt;</th><th scope=col>&lt;dbl&gt;</th><th scope=col>&lt;dbl&gt;</th><th scope=col>&lt;dbl&gt;</th></tr>\n",
       "</thead>\n",
       "<tbody>\n",
       "\t<tr><th scope=row>1</th><td>1100015</td><td>Alta Floresta D'Oeste</td><td>NA</td><td>505.1510</td><td>NA</td><td>0.8558483</td><td>0.50</td><td>0.39</td><td>0.87</td><td>0.63</td><td>0.3668166</td><td>0.3628449</td></tr>\n",
       "\t<tr><th scope=row>2</th><td>1100023</td><td>Ariquemes            </td><td>NA</td><td>250.4456</td><td>NA</td><td>0.7033558</td><td>0.50</td><td>0.43</td><td>0.87</td><td>0.68</td><td>0.3683893</td><td>0.3580016</td></tr>\n",
       "\t<tr><th scope=row>3</th><td>1100049</td><td>Cacoal               </td><td>NA</td><td>484.0213</td><td>NA</td><td>0.7574339</td><td>0.41</td><td>0.40</td><td>0.86</td><td>0.66</td><td>0.3668166</td><td>0.3580016</td></tr>\n",
       "\t<tr><th scope=row>4</th><td>1100056</td><td>Cerejeiras           </td><td>NA</td><td>502.3173</td><td>NA</td><td>0.8637762</td><td>0.44</td><td>0.36</td><td>0.86</td><td>0.62</td><td>0.3755990</td><td>0.3676119</td></tr>\n",
       "\t<tr><th scope=row>5</th><td>1100064</td><td>Colorado do Oeste    </td><td>NA</td><td>155.5272</td><td>NA</td><td>0.8161036</td><td>0.46</td><td>0.42</td><td>0.80</td><td>0.58</td><td>0.3571637</td><td>0.3530795</td></tr>\n",
       "\t<tr><th scope=row>6</th><td>1100080</td><td>Costa Marques        </td><td>NA</td><td>103.2916</td><td>NA</td><td>0.7458377</td><td>0.45</td><td>0.38</td><td>0.87</td><td>0.67</td><td>0.3652338</td><td>0.3480761</td></tr>\n",
       "</tbody>\n",
       "</table>\n"
      ],
      "text/latex": [
       "A data.frame: 6 × 12\n",
       "\\begin{tabular}{r|llllllllllll}\n",
       "  & GEOCOD & NM\\_MUN & CAT & PDMED & PROB & AMPT & HURS & RAIN & TASMAX & TASMIN & WSDI\\_D & WSDI\\_C\\\\\n",
       "  & <int> & <chr> & <lgl> & <dbl> & <lgl> & <dbl> & <dbl> & <dbl> & <dbl> & <dbl> & <dbl> & <dbl>\\\\\n",
       "\\hline\n",
       "\t1 & 1100015 & Alta Floresta D'Oeste & NA & 505.1510 & NA & 0.8558483 & 0.50 & 0.39 & 0.87 & 0.63 & 0.3668166 & 0.3628449\\\\\n",
       "\t2 & 1100023 & Ariquemes             & NA & 250.4456 & NA & 0.7033558 & 0.50 & 0.43 & 0.87 & 0.68 & 0.3683893 & 0.3580016\\\\\n",
       "\t3 & 1100049 & Cacoal                & NA & 484.0213 & NA & 0.7574339 & 0.41 & 0.40 & 0.86 & 0.66 & 0.3668166 & 0.3580016\\\\\n",
       "\t4 & 1100056 & Cerejeiras            & NA & 502.3173 & NA & 0.8637762 & 0.44 & 0.36 & 0.86 & 0.62 & 0.3755990 & 0.3676119\\\\\n",
       "\t5 & 1100064 & Colorado do Oeste     & NA & 155.5272 & NA & 0.8161036 & 0.46 & 0.42 & 0.80 & 0.58 & 0.3571637 & 0.3530795\\\\\n",
       "\t6 & 1100080 & Costa Marques         & NA & 103.2916 & NA & 0.7458377 & 0.45 & 0.38 & 0.87 & 0.67 & 0.3652338 & 0.3480761\\\\\n",
       "\\end{tabular}\n"
      ],
      "text/markdown": [
       "\n",
       "A data.frame: 6 × 12\n",
       "\n",
       "| <!--/--> | GEOCOD &lt;int&gt; | NM_MUN &lt;chr&gt; | CAT &lt;lgl&gt; | PDMED &lt;dbl&gt; | PROB &lt;lgl&gt; | AMPT &lt;dbl&gt; | HURS &lt;dbl&gt; | RAIN &lt;dbl&gt; | TASMAX &lt;dbl&gt; | TASMIN &lt;dbl&gt; | WSDI_D &lt;dbl&gt; | WSDI_C &lt;dbl&gt; |\n",
       "|---|---|---|---|---|---|---|---|---|---|---|---|---|\n",
       "| 1 | 1100015 | Alta Floresta D'Oeste | NA | 505.1510 | NA | 0.8558483 | 0.50 | 0.39 | 0.87 | 0.63 | 0.3668166 | 0.3628449 |\n",
       "| 2 | 1100023 | Ariquemes             | NA | 250.4456 | NA | 0.7033558 | 0.50 | 0.43 | 0.87 | 0.68 | 0.3683893 | 0.3580016 |\n",
       "| 3 | 1100049 | Cacoal                | NA | 484.0213 | NA | 0.7574339 | 0.41 | 0.40 | 0.86 | 0.66 | 0.3668166 | 0.3580016 |\n",
       "| 4 | 1100056 | Cerejeiras            | NA | 502.3173 | NA | 0.8637762 | 0.44 | 0.36 | 0.86 | 0.62 | 0.3755990 | 0.3676119 |\n",
       "| 5 | 1100064 | Colorado do Oeste     | NA | 155.5272 | NA | 0.8161036 | 0.46 | 0.42 | 0.80 | 0.58 | 0.3571637 | 0.3530795 |\n",
       "| 6 | 1100080 | Costa Marques         | NA | 103.2916 | NA | 0.7458377 | 0.45 | 0.38 | 0.87 | 0.67 | 0.3652338 | 0.3480761 |\n",
       "\n"
      ],
      "text/plain": [
       "  GEOCOD  NM_MUN                CAT PDMED    PROB AMPT      HURS RAIN TASMAX\n",
       "1 1100015 Alta Floresta D'Oeste NA  505.1510 NA   0.8558483 0.50 0.39 0.87  \n",
       "2 1100023 Ariquemes             NA  250.4456 NA   0.7033558 0.50 0.43 0.87  \n",
       "3 1100049 Cacoal                NA  484.0213 NA   0.7574339 0.41 0.40 0.86  \n",
       "4 1100056 Cerejeiras            NA  502.3173 NA   0.8637762 0.44 0.36 0.86  \n",
       "5 1100064 Colorado do Oeste     NA  155.5272 NA   0.8161036 0.46 0.42 0.80  \n",
       "6 1100080 Costa Marques         NA  103.2916 NA   0.7458377 0.45 0.38 0.87  \n",
       "  TASMIN WSDI_D    WSDI_C   \n",
       "1 0.63   0.3668166 0.3628449\n",
       "2 0.68   0.3683893 0.3580016\n",
       "3 0.66   0.3668166 0.3580016\n",
       "4 0.62   0.3755990 0.3676119\n",
       "5 0.58   0.3571637 0.3530795\n",
       "6 0.67   0.3652338 0.3480761"
      ]
     },
     "metadata": {},
     "output_type": "display_data"
    }
   ],
   "source": [
    "head(datah)"
   ]
  },
  {
   "cell_type": "code",
   "execution_count": 12,
   "metadata": {
    "vscode": {
     "languageId": "r"
    }
   },
   "outputs": [],
   "source": [
    "# Excluindo Fernando de Noronha\n",
    "\n",
    "datah<-datah[-which(datah[,1]==2605459),]\n",
    "data2030O<-data2030O[-which(data2030O[,1]==2605459),]\n",
    "data2050O<-data2050O[-which(data2050O[,1]==2605459),]\n",
    "data2030P<-data2030P[-which(data2030P[,1]==2605459),]\n",
    "data2050P<-data2050P[-which(data2050P[,1]==2605459),]"
   ]
  },
  {
   "cell_type": "code",
   "execution_count": 13,
   "metadata": {
    "vscode": {
     "languageId": "r"
    }
   },
   "outputs": [
    {
     "data": {
      "text/html": [
       "150"
      ],
      "text/latex": [
       "150"
      ],
      "text/markdown": [
       "150"
      ],
      "text/plain": [
       "[1] 150"
      ]
     },
     "metadata": {},
     "output_type": "display_data"
    }
   ],
   "source": [
    "posZero<-which(datah[,4]==0)\n",
    "\n",
    "length(posZero)"
   ]
  },
  {
   "cell_type": "markdown",
   "metadata": {},
   "source": [
    "##### Calculando a distribuição empírica da probabilidade de  frequência do desfecho #####"
   ]
  },
  {
   "cell_type": "markdown",
   "metadata": {},
   "source": [
    "No presente caso foram utilizados os valores anuais da taxa de ocorrência do referido desfecho (Arbovirose relacionadas ao Aedes Aegypti).\n",
    "O período de avaliação compreende os anos de 2017 a 2022.\n",
    "Para o cálculo da distribuição empírica foram desconsiderados duplicações dos valores de taxa de ocorrência."
   ]
  },
  {
   "cell_type": "code",
   "execution_count": 14,
   "metadata": {
    "vscode": {
     "languageId": "r"
    }
   },
   "outputs": [
    {
     "data": {
      "image/png": "[encoded data removed]",
      "text/plain": [
       "plot without title"
      ]
     },
     "metadata": {
      "image/png": {
       "height": 420,
       "width": 420
      }
     },
     "output_type": "display_data"
    },
    {
     "data": {
      "image/png": "[encoded data removed]",
      "text/plain": [
       "plot without title"
      ]
     },
     "metadata": {
      "image/png": {
       "height": 420,
       "width": 420
      }
     },
     "output_type": "display_data"
    }
   ],
   "source": [
    "plot.ts(as.numeric(unlist(Arbo[,40:45])),xlab='Observações',ylab='Taxa de Incidência')\n",
    "plot.ts(cumsum(as.numeric(unlist(Arbo[,40:45]))),lwd=2,xlab='Observações',ylab='Taxa de Incidência')\n",
    "lines(cumsum(sort(as.numeric(unlist(Arbo[,40:45])))),lwd=2,col=2)"
   ]
  },
  {
   "cell_type": "code",
   "execution_count": 15,
   "metadata": {
    "vscode": {
     "languageId": "r"
    }
   },
   "outputs": [],
   "source": [
    "# Distribuição Empírica da Probabilidade de Frequência do Desfecho\n",
    "DEPFD<-ecdf(unique(as.numeric(unlist(Arbo[,c(40:45)]))))\n",
    "\n",
    "# Utilizou-se o valor médio (2017-2022) da taxa de ocorrência do desfecho para criar o perfil médio de probabilidade de ocorrência.\n",
    "\n",
    "datah[,5]<-DEPFD(datah[,4])\n",
    "\n",
    "# Categorizou-se a informação referente ao perfil médio de probabilidade de ocorrência, sendo os valores inferiores ou iguais a 0.4 rotulados como 0 (ocorrência baixa ou não ocorrência) e valores superiores a 0.4 como 1 (ocorrência moderada, alta ou muito alta).\n",
    "\n",
    "datah[,3]<-ifelse(datah[,5]<=0.4,0,1)"
   ]
  },
  {
   "cell_type": "code",
   "execution_count": 16,
   "metadata": {
    "vscode": {
     "languageId": "r"
    }
   },
   "outputs": [
    {
     "data": {
      "image/png": "[encoded data removed]",
      "text/plain": [
       "Plot with title “”"
      ]
     },
     "metadata": {
      "image/png": {
       "height": 420,
       "width": 420
      }
     },
     "output_type": "display_data"
    }
   ],
   "source": [
    "plot(DEPFD,xlab='Taxa de Incidência',ylab='Probabilidade',main='')"
   ]
  },
  {
   "cell_type": "code",
   "execution_count": 17,
   "metadata": {
    "vscode": {
     "languageId": "r"
    }
   },
   "outputs": [
    {
     "data": {
      "text/html": [
       "<table class=\"dataframe\">\n",
       "<caption>A data.frame: 6 × 12</caption>\n",
       "<thead>\n",
       "\t<tr><th></th><th scope=col>GEOCOD</th><th scope=col>NM_MUN</th><th scope=col>CAT</th><th scope=col>PDMED</th><th scope=col>PROB</th><th scope=col>AMPT</th><th scope=col>HURS</th><th scope=col>RAIN</th><th scope=col>TASMAX</th><th scope=col>TASMIN</th><th scope=col>WSDI_D</th><th scope=col>WSDI_C</th></tr>\n",
       "\t<tr><th></th><th scope=col>&lt;int&gt;</th><th scope=col>&lt;chr&gt;</th><th scope=col>&lt;dbl&gt;</th><th scope=col>&lt;dbl&gt;</th><th scope=col>&lt;dbl&gt;</th><th scope=col>&lt;dbl&gt;</th><th scope=col>&lt;dbl&gt;</th><th scope=col>&lt;dbl&gt;</th><th scope=col>&lt;dbl&gt;</th><th scope=col>&lt;dbl&gt;</th><th scope=col>&lt;dbl&gt;</th><th scope=col>&lt;dbl&gt;</th></tr>\n",
       "</thead>\n",
       "<tbody>\n",
       "\t<tr><th scope=row>1</th><td>1100015</td><td>Alta Floresta D'Oeste</td><td>1</td><td>505.1510</td><td>0.7299140</td><td>0.8558483</td><td>0.50</td><td>0.39</td><td>0.87</td><td>0.63</td><td>0.3668166</td><td>0.3628449</td></tr>\n",
       "\t<tr><th scope=row>2</th><td>1100023</td><td>Ariquemes            </td><td>1</td><td>250.4456</td><td>0.6291917</td><td>0.7033558</td><td>0.50</td><td>0.43</td><td>0.87</td><td>0.68</td><td>0.3683893</td><td>0.3580016</td></tr>\n",
       "\t<tr><th scope=row>3</th><td>1100049</td><td>Cacoal               </td><td>1</td><td>484.0213</td><td>0.7235382</td><td>0.7574339</td><td>0.41</td><td>0.40</td><td>0.86</td><td>0.66</td><td>0.3668166</td><td>0.3580016</td></tr>\n",
       "\t<tr><th scope=row>4</th><td>1100056</td><td>Cerejeiras           </td><td>1</td><td>502.3173</td><td>0.7292684</td><td>0.8637762</td><td>0.44</td><td>0.36</td><td>0.86</td><td>0.62</td><td>0.3755990</td><td>0.3676119</td></tr>\n",
       "\t<tr><th scope=row>5</th><td>1100064</td><td>Colorado do Oeste    </td><td>1</td><td>155.5272</td><td>0.5515516</td><td>0.8161036</td><td>0.46</td><td>0.42</td><td>0.80</td><td>0.58</td><td>0.3571637</td><td>0.3530795</td></tr>\n",
       "\t<tr><th scope=row>6</th><td>1100080</td><td>Costa Marques        </td><td>1</td><td>103.2916</td><td>0.4802066</td><td>0.7458377</td><td>0.45</td><td>0.38</td><td>0.87</td><td>0.67</td><td>0.3652338</td><td>0.3480761</td></tr>\n",
       "</tbody>\n",
       "</table>\n"
      ],
      "text/latex": [
       "A data.frame: 6 × 12\n",
       "\\begin{tabular}{r|llllllllllll}\n",
       "  & GEOCOD & NM\\_MUN & CAT & PDMED & PROB & AMPT & HURS & RAIN & TASMAX & TASMIN & WSDI\\_D & WSDI\\_C\\\\\n",
       "  & <int> & <chr> & <dbl> & <dbl> & <dbl> & <dbl> & <dbl> & <dbl> & <dbl> & <dbl> & <dbl> & <dbl>\\\\\n",
       "\\hline\n",
       "\t1 & 1100015 & Alta Floresta D'Oeste & 1 & 505.1510 & 0.7299140 & 0.8558483 & 0.50 & 0.39 & 0.87 & 0.63 & 0.3668166 & 0.3628449\\\\\n",
       "\t2 & 1100023 & Ariquemes             & 1 & 250.4456 & 0.6291917 & 0.7033558 & 0.50 & 0.43 & 0.87 & 0.68 & 0.3683893 & 0.3580016\\\\\n",
       "\t3 & 1100049 & Cacoal                & 1 & 484.0213 & 0.7235382 & 0.7574339 & 0.41 & 0.40 & 0.86 & 0.66 & 0.3668166 & 0.3580016\\\\\n",
       "\t4 & 1100056 & Cerejeiras            & 1 & 502.3173 & 0.7292684 & 0.8637762 & 0.44 & 0.36 & 0.86 & 0.62 & 0.3755990 & 0.3676119\\\\\n",
       "\t5 & 1100064 & Colorado do Oeste     & 1 & 155.5272 & 0.5515516 & 0.8161036 & 0.46 & 0.42 & 0.80 & 0.58 & 0.3571637 & 0.3530795\\\\\n",
       "\t6 & 1100080 & Costa Marques         & 1 & 103.2916 & 0.4802066 & 0.7458377 & 0.45 & 0.38 & 0.87 & 0.67 & 0.3652338 & 0.3480761\\\\\n",
       "\\end{tabular}\n"
      ],
      "text/markdown": [
       "\n",
       "A data.frame: 6 × 12\n",
       "\n",
       "| <!--/--> | GEOCOD &lt;int&gt; | NM_MUN &lt;chr&gt; | CAT &lt;dbl&gt; | PDMED &lt;dbl&gt; | PROB &lt;dbl&gt; | AMPT &lt;dbl&gt; | HURS &lt;dbl&gt; | RAIN &lt;dbl&gt; | TASMAX &lt;dbl&gt; | TASMIN &lt;dbl&gt; | WSDI_D &lt;dbl&gt; | WSDI_C &lt;dbl&gt; |\n",
       "|---|---|---|---|---|---|---|---|---|---|---|---|---|\n",
       "| 1 | 1100015 | Alta Floresta D'Oeste | 1 | 505.1510 | 0.7299140 | 0.8558483 | 0.50 | 0.39 | 0.87 | 0.63 | 0.3668166 | 0.3628449 |\n",
       "| 2 | 1100023 | Ariquemes             | 1 | 250.4456 | 0.6291917 | 0.7033558 | 0.50 | 0.43 | 0.87 | 0.68 | 0.3683893 | 0.3580016 |\n",
       "| 3 | 1100049 | Cacoal                | 1 | 484.0213 | 0.7235382 | 0.7574339 | 0.41 | 0.40 | 0.86 | 0.66 | 0.3668166 | 0.3580016 |\n",
       "| 4 | 1100056 | Cerejeiras            | 1 | 502.3173 | 0.7292684 | 0.8637762 | 0.44 | 0.36 | 0.86 | 0.62 | 0.3755990 | 0.3676119 |\n",
       "| 5 | 1100064 | Colorado do Oeste     | 1 | 155.5272 | 0.5515516 | 0.8161036 | 0.46 | 0.42 | 0.80 | 0.58 | 0.3571637 | 0.3530795 |\n",
       "| 6 | 1100080 | Costa Marques         | 1 | 103.2916 | 0.4802066 | 0.7458377 | 0.45 | 0.38 | 0.87 | 0.67 | 0.3652338 | 0.3480761 |\n",
       "\n"
      ],
      "text/plain": [
       "  GEOCOD  NM_MUN                CAT PDMED    PROB      AMPT      HURS RAIN\n",
       "1 1100015 Alta Floresta D'Oeste 1   505.1510 0.7299140 0.8558483 0.50 0.39\n",
       "2 1100023 Ariquemes             1   250.4456 0.6291917 0.7033558 0.50 0.43\n",
       "3 1100049 Cacoal                1   484.0213 0.7235382 0.7574339 0.41 0.40\n",
       "4 1100056 Cerejeiras            1   502.3173 0.7292684 0.8637762 0.44 0.36\n",
       "5 1100064 Colorado do Oeste     1   155.5272 0.5515516 0.8161036 0.46 0.42\n",
       "6 1100080 Costa Marques         1   103.2916 0.4802066 0.7458377 0.45 0.38\n",
       "  TASMAX TASMIN WSDI_D    WSDI_C   \n",
       "1 0.87   0.63   0.3668166 0.3628449\n",
       "2 0.87   0.68   0.3683893 0.3580016\n",
       "3 0.86   0.66   0.3668166 0.3580016\n",
       "4 0.86   0.62   0.3755990 0.3676119\n",
       "5 0.80   0.58   0.3571637 0.3530795\n",
       "6 0.87   0.67   0.3652338 0.3480761"
      ]
     },
     "metadata": {},
     "output_type": "display_data"
    }
   ],
   "source": [
    "head(datah)"
   ]
  },
  {
   "cell_type": "code",
   "execution_count": 18,
   "metadata": {
    "vscode": {
     "languageId": "r"
    }
   },
   "outputs": [
    {
     "data": {
      "text/html": [
       "<style>\n",
       ".list-inline {list-style: none; margin:0; padding: 0}\n",
       ".list-inline>li {display: inline-block}\n",
       ".list-inline>li:not(:last-child)::after {content: \"\\00b7\"; padding: 0 .5ex}\n",
       "</style>\n",
       "<ol class=list-inline><li>4058</li><li>12</li></ol>\n"
      ],
      "text/latex": [
       "\\begin{enumerate*}\n",
       "\\item 4058\n",
       "\\item 12\n",
       "\\end{enumerate*}\n"
      ],
      "text/markdown": [
       "1. 4058\n",
       "2. 12\n",
       "\n",
       "\n"
      ],
      "text/plain": [
       "[1] 4058   12"
      ]
     },
     "metadata": {},
     "output_type": "display_data"
    },
    {
     "data": {
      "text/html": [
       "<style>\n",
       ".list-inline {list-style: none; margin:0; padding: 0}\n",
       ".list-inline>li {display: inline-block}\n",
       ".list-inline>li:not(:last-child)::after {content: \"\\00b7\"; padding: 0 .5ex}\n",
       "</style>\n",
       "<ol class=list-inline><li>1511</li><li>12</li></ol>\n"
      ],
      "text/latex": [
       "\\begin{enumerate*}\n",
       "\\item 1511\n",
       "\\item 12\n",
       "\\end{enumerate*}\n"
      ],
      "text/markdown": [
       "1. 1511\n",
       "2. 12\n",
       "\n",
       "\n"
      ],
      "text/plain": [
       "[1] 1511   12"
      ]
     },
     "metadata": {},
     "output_type": "display_data"
    }
   ],
   "source": [
    "DADO_MOD1   <-  datah[which(datah[,3]==1),]\n",
    "DADO_MOD0   <-  datah[which(datah[,3]==0),]\n",
    "\n",
    "dim(DADO_MOD1)\n",
    "dim(DADO_MOD0)"
   ]
  },
  {
   "cell_type": "code",
   "execution_count": 19,
   "metadata": {
    "vscode": {
     "languageId": "r"
    }
   },
   "outputs": [
    {
     "name": "stdout",
     "output_type": "stream",
     "text": [
      "[1] 1511\n"
     ]
    }
   ],
   "source": [
    "tamanho_amostral<-min(NROW(DADO_MOD0),NROW(DADO_MOD1))\n",
    "\n",
    "print(tamanho_amostral)"
   ]
  },
  {
   "cell_type": "code",
   "execution_count": 20,
   "metadata": {
    "vscode": {
     "languageId": "r"
    }
   },
   "outputs": [],
   "source": [
    "amostra1     <- sample(c(TRUE, FALSE),tamanho_amostral,replace=TRUE,prob=c(0.7,0.3))\n",
    "amostra2     <- sample(c(TRUE, FALSE),tamanho_amostral,replace=TRUE,prob=c(0.7,0.3))\n",
    "\n",
    "dado.train  <- rbind(DADO_MOD1[which(amostra1==T), ],DADO_MOD0[which(amostra2==T),])\n",
    "dado.test   <- rbind(DADO_MOD1[which(amostra1==F), ],DADO_MOD0[which(amostra2==F),])  "
   ]
  },
  {
   "cell_type": "code",
   "execution_count": 21,
   "metadata": {
    "vscode": {
     "languageId": "r"
    }
   },
   "outputs": [
    {
     "data": {
      "text/html": [
       "<style>\n",
       ".list-inline {list-style: none; margin:0; padding: 0}\n",
       ".list-inline>li {display: inline-block}\n",
       ".list-inline>li:not(:last-child)::after {content: \"\\00b7\"; padding: 0 .5ex}\n",
       "</style>\n",
       "<ol class=list-inline><li>2123</li><li>12</li></ol>\n"
      ],
      "text/latex": [
       "\\begin{enumerate*}\n",
       "\\item 2123\n",
       "\\item 12\n",
       "\\end{enumerate*}\n"
      ],
      "text/markdown": [
       "1. 2123\n",
       "2. 12\n",
       "\n",
       "\n"
      ],
      "text/plain": [
       "[1] 2123   12"
      ]
     },
     "metadata": {},
     "output_type": "display_data"
    },
    {
     "data": {
      "text/html": [
       "<style>\n",
       ".list-inline {list-style: none; margin:0; padding: 0}\n",
       ".list-inline>li {display: inline-block}\n",
       ".list-inline>li:not(:last-child)::after {content: \"\\00b7\"; padding: 0 .5ex}\n",
       "</style>\n",
       "<ol class=list-inline><li>899</li><li>12</li></ol>\n"
      ],
      "text/latex": [
       "\\begin{enumerate*}\n",
       "\\item 899\n",
       "\\item 12\n",
       "\\end{enumerate*}\n"
      ],
      "text/markdown": [
       "1. 899\n",
       "2. 12\n",
       "\n",
       "\n"
      ],
      "text/plain": [
       "[1] 899  12"
      ]
     },
     "metadata": {},
     "output_type": "display_data"
    }
   ],
   "source": [
    "dim(dado.train)\n",
    "dim(dado.test)"
   ]
  },
  {
   "cell_type": "code",
   "execution_count": 22,
   "metadata": {
    "vscode": {
     "languageId": "r"
    }
   },
   "outputs": [
    {
     "data": {
      "text/html": [
       "<table class=\"dataframe\">\n",
       "<caption>A data.frame: 6 × 12</caption>\n",
       "<thead>\n",
       "\t<tr><th></th><th scope=col>GEOCOD</th><th scope=col>NM_MUN</th><th scope=col>CAT</th><th scope=col>PDMED</th><th scope=col>PROB</th><th scope=col>AMPT</th><th scope=col>HURS</th><th scope=col>RAIN</th><th scope=col>TASMAX</th><th scope=col>TASMIN</th><th scope=col>WSDI_D</th><th scope=col>WSDI_C</th></tr>\n",
       "\t<tr><th></th><th scope=col>&lt;int&gt;</th><th scope=col>&lt;chr&gt;</th><th scope=col>&lt;dbl&gt;</th><th scope=col>&lt;dbl&gt;</th><th scope=col>&lt;dbl&gt;</th><th scope=col>&lt;dbl&gt;</th><th scope=col>&lt;dbl&gt;</th><th scope=col>&lt;dbl&gt;</th><th scope=col>&lt;dbl&gt;</th><th scope=col>&lt;dbl&gt;</th><th scope=col>&lt;dbl&gt;</th><th scope=col>&lt;dbl&gt;</th></tr>\n",
       "</thead>\n",
       "<tbody>\n",
       "\t<tr><th scope=row>1</th><td>1100015</td><td>Alta Floresta D'Oeste</td><td>1</td><td>505.1510</td><td>0.7299140</td><td>0.8558483</td><td>0.50</td><td>0.39</td><td>0.87</td><td>0.63</td><td>0.3668166</td><td>0.3628449</td></tr>\n",
       "\t<tr><th scope=row>2</th><td>1100023</td><td>Ariquemes            </td><td>1</td><td>250.4456</td><td>0.6291917</td><td>0.7033558</td><td>0.50</td><td>0.43</td><td>0.87</td><td>0.68</td><td>0.3683893</td><td>0.3580016</td></tr>\n",
       "\t<tr><th scope=row>3</th><td>1100049</td><td>Cacoal               </td><td>1</td><td>484.0213</td><td>0.7235382</td><td>0.7574339</td><td>0.41</td><td>0.40</td><td>0.86</td><td>0.66</td><td>0.3668166</td><td>0.3580016</td></tr>\n",
       "\t<tr><th scope=row>4</th><td>1100056</td><td>Cerejeiras           </td><td>1</td><td>502.3173</td><td>0.7292684</td><td>0.8637762</td><td>0.44</td><td>0.36</td><td>0.86</td><td>0.62</td><td>0.3755990</td><td>0.3676119</td></tr>\n",
       "\t<tr><th scope=row>8</th><td>1100106</td><td>Guajará-Mirim        </td><td>1</td><td>133.2630</td><td>0.5258061</td><td>0.6944804</td><td>0.52</td><td>0.43</td><td>0.85</td><td>0.67</td><td>0.3510731</td><td>0.3378141</td></tr>\n",
       "\t<tr><th scope=row>9</th><td>1100114</td><td>Jaru                 </td><td>1</td><td>544.7985</td><td>0.7396796</td><td>0.7124336</td><td>0.47</td><td>0.42</td><td>0.85</td><td>0.66</td><td>0.3647039</td><td>0.3530795</td></tr>\n",
       "</tbody>\n",
       "</table>\n"
      ],
      "text/latex": [
       "A data.frame: 6 × 12\n",
       "\\begin{tabular}{r|llllllllllll}\n",
       "  & GEOCOD & NM\\_MUN & CAT & PDMED & PROB & AMPT & HURS & RAIN & TASMAX & TASMIN & WSDI\\_D & WSDI\\_C\\\\\n",
       "  & <int> & <chr> & <dbl> & <dbl> & <dbl> & <dbl> & <dbl> & <dbl> & <dbl> & <dbl> & <dbl> & <dbl>\\\\\n",
       "\\hline\n",
       "\t1 & 1100015 & Alta Floresta D'Oeste & 1 & 505.1510 & 0.7299140 & 0.8558483 & 0.50 & 0.39 & 0.87 & 0.63 & 0.3668166 & 0.3628449\\\\\n",
       "\t2 & 1100023 & Ariquemes             & 1 & 250.4456 & 0.6291917 & 0.7033558 & 0.50 & 0.43 & 0.87 & 0.68 & 0.3683893 & 0.3580016\\\\\n",
       "\t3 & 1100049 & Cacoal                & 1 & 484.0213 & 0.7235382 & 0.7574339 & 0.41 & 0.40 & 0.86 & 0.66 & 0.3668166 & 0.3580016\\\\\n",
       "\t4 & 1100056 & Cerejeiras            & 1 & 502.3173 & 0.7292684 & 0.8637762 & 0.44 & 0.36 & 0.86 & 0.62 & 0.3755990 & 0.3676119\\\\\n",
       "\t8 & 1100106 & Guajará-Mirim         & 1 & 133.2630 & 0.5258061 & 0.6944804 & 0.52 & 0.43 & 0.85 & 0.67 & 0.3510731 & 0.3378141\\\\\n",
       "\t9 & 1100114 & Jaru                  & 1 & 544.7985 & 0.7396796 & 0.7124336 & 0.47 & 0.42 & 0.85 & 0.66 & 0.3647039 & 0.3530795\\\\\n",
       "\\end{tabular}\n"
      ],
      "text/markdown": [
       "\n",
       "A data.frame: 6 × 12\n",
       "\n",
       "| <!--/--> | GEOCOD &lt;int&gt; | NM_MUN &lt;chr&gt; | CAT &lt;dbl&gt; | PDMED &lt;dbl&gt; | PROB &lt;dbl&gt; | AMPT &lt;dbl&gt; | HURS &lt;dbl&gt; | RAIN &lt;dbl&gt; | TASMAX &lt;dbl&gt; | TASMIN &lt;dbl&gt; | WSDI_D &lt;dbl&gt; | WSDI_C &lt;dbl&gt; |\n",
       "|---|---|---|---|---|---|---|---|---|---|---|---|---|\n",
       "| 1 | 1100015 | Alta Floresta D'Oeste | 1 | 505.1510 | 0.7299140 | 0.8558483 | 0.50 | 0.39 | 0.87 | 0.63 | 0.3668166 | 0.3628449 |\n",
       "| 2 | 1100023 | Ariquemes             | 1 | 250.4456 | 0.6291917 | 0.7033558 | 0.50 | 0.43 | 0.87 | 0.68 | 0.3683893 | 0.3580016 |\n",
       "| 3 | 1100049 | Cacoal                | 1 | 484.0213 | 0.7235382 | 0.7574339 | 0.41 | 0.40 | 0.86 | 0.66 | 0.3668166 | 0.3580016 |\n",
       "| 4 | 1100056 | Cerejeiras            | 1 | 502.3173 | 0.7292684 | 0.8637762 | 0.44 | 0.36 | 0.86 | 0.62 | 0.3755990 | 0.3676119 |\n",
       "| 8 | 1100106 | Guajará-Mirim         | 1 | 133.2630 | 0.5258061 | 0.6944804 | 0.52 | 0.43 | 0.85 | 0.67 | 0.3510731 | 0.3378141 |\n",
       "| 9 | 1100114 | Jaru                  | 1 | 544.7985 | 0.7396796 | 0.7124336 | 0.47 | 0.42 | 0.85 | 0.66 | 0.3647039 | 0.3530795 |\n",
       "\n"
      ],
      "text/plain": [
       "  GEOCOD  NM_MUN                CAT PDMED    PROB      AMPT      HURS RAIN\n",
       "1 1100015 Alta Floresta D'Oeste 1   505.1510 0.7299140 0.8558483 0.50 0.39\n",
       "2 1100023 Ariquemes             1   250.4456 0.6291917 0.7033558 0.50 0.43\n",
       "3 1100049 Cacoal                1   484.0213 0.7235382 0.7574339 0.41 0.40\n",
       "4 1100056 Cerejeiras            1   502.3173 0.7292684 0.8637762 0.44 0.36\n",
       "8 1100106 Guajará-Mirim         1   133.2630 0.5258061 0.6944804 0.52 0.43\n",
       "9 1100114 Jaru                  1   544.7985 0.7396796 0.7124336 0.47 0.42\n",
       "  TASMAX TASMIN WSDI_D    WSDI_C   \n",
       "1 0.87   0.63   0.3668166 0.3628449\n",
       "2 0.87   0.68   0.3683893 0.3580016\n",
       "3 0.86   0.66   0.3668166 0.3580016\n",
       "4 0.86   0.62   0.3755990 0.3676119\n",
       "8 0.85   0.67   0.3510731 0.3378141\n",
       "9 0.85   0.66   0.3647039 0.3530795"
      ]
     },
     "metadata": {},
     "output_type": "display_data"
    }
   ],
   "source": [
    "head(dado.train)"
   ]
  },
  {
   "cell_type": "code",
   "execution_count": 23,
   "metadata": {
    "vscode": {
     "languageId": "r"
    }
   },
   "outputs": [
    {
     "data": {
      "text/plain": [
       "\n",
       "   0    1 \n",
       "1042 1081 "
      ]
     },
     "metadata": {},
     "output_type": "display_data"
    }
   ],
   "source": [
    "table(dado.train$CAT)"
   ]
  },
  {
   "cell_type": "code",
   "execution_count": 24,
   "metadata": {
    "vscode": {
     "languageId": "r"
    }
   },
   "outputs": [
    {
     "data": {
      "image/png": "[encoded data removed]",
      "text/plain": [
       "Plot with title “Dado de Treino”"
      ]
     },
     "metadata": {
      "image/png": {
       "height": 420,
       "width": 420
      }
     },
     "output_type": "display_data"
    }
   ],
   "source": [
    "plot.ts(dado.train$CAT,main='Dado de Treino',xlab='Observações',ylab='Ocorrência')"
   ]
  },
  {
   "cell_type": "code",
   "execution_count": 25,
   "metadata": {
    "vscode": {
     "languageId": "r"
    }
   },
   "outputs": [],
   "source": [
    "dado.train2\t<- dado.train[sample(sample(order(dado.train[,5]))),]\n",
    "dado.test2\t<- dado.test[sample(sample(order(dado.test[,5]))),]"
   ]
  },
  {
   "cell_type": "code",
   "execution_count": 26,
   "metadata": {
    "vscode": {
     "languageId": "r"
    }
   },
   "outputs": [
    {
     "data": {
      "image/png": "[encoded data removed]",
      "text/plain": [
       "Plot with title “Dado de Treino”"
      ]
     },
     "metadata": {
      "image/png": {
       "height": 420,
       "width": 420
      }
     },
     "output_type": "display_data"
    }
   ],
   "source": [
    "plot.ts(dado.train2$CAT,main='Dado de Treino',xlab='Observações',ylab='Ocorrência')"
   ]
  },
  {
   "cell_type": "code",
   "execution_count": 27,
   "metadata": {
    "vscode": {
     "languageId": "r"
    }
   },
   "outputs": [
    {
     "name": "stdout",
     "output_type": "stream",
     "text": [
      "Start:  AIC=2352.7\n",
      "CAT ~ AMPT + RAIN + TASMAX + TASMIN + HURS\n",
      "\n",
      "         Df Deviance    AIC\n",
      "- AMPT    1   2341.7 2351.7\n",
      "<none>        2340.7 2352.7\n",
      "- TASMAX  1   2345.2 2355.2\n",
      "- TASMIN  1   2364.5 2374.5\n",
      "- HURS    1   2373.3 2383.3\n",
      "- RAIN    1   2421.1 2431.1\n",
      "\n",
      "Step:  AIC=2351.7\n",
      "CAT ~ RAIN + TASMAX + TASMIN + HURS\n",
      "\n",
      "         Df Deviance    AIC\n",
      "<none>        2341.7 2351.7\n",
      "- HURS    1   2377.5 2385.5\n",
      "- TASMAX  1   2388.0 2396.0\n",
      "- RAIN    1   2435.7 2443.7\n",
      "- TASMIN  1   2544.7 2552.7\n"
     ]
    },
    {
     "data": {
      "text/plain": [
       "\n",
       "Call:\n",
       "glm(formula = CAT ~ AMPT + RAIN + TASMAX + TASMIN + HURS, family = \"binomial\", \n",
       "    data = dado.train2, offset = WSDI_C)\n",
       "\n",
       "Deviance Residuals: \n",
       "    Min       1Q   Median       3Q      Max  \n",
       "-2.4982  -0.8780   0.4557   0.8907   2.3559  \n",
       "\n",
       "Coefficients:\n",
       "            Estimate Std. Error z value Pr(>|z|)    \n",
       "(Intercept)   0.4772     0.4630   1.031   0.3027    \n",
       "AMPT         -0.7845     0.7790  -1.007   0.3140    \n",
       "RAIN         -3.9383     0.4506  -8.740  < 2e-16 ***\n",
       "TASMAX       -2.9942     1.4344  -2.087   0.0368 *  \n",
       "TASMIN        7.4078     1.5731   4.709 2.49e-06 ***\n",
       "HURS         -1.9540     0.3477  -5.619 1.92e-08 ***\n",
       "---\n",
       "Signif. codes:  0 ‘***’ 0.001 ‘**’ 0.01 ‘*’ 0.05 ‘.’ 0.1 ‘ ’ 1\n",
       "\n",
       "(Dispersion parameter for binomial family taken to be 1)\n",
       "\n",
       "    Null deviance: 2901.0  on 2122  degrees of freedom\n",
       "Residual deviance: 2340.7  on 2117  degrees of freedom\n",
       "AIC: 2352.7\n",
       "\n",
       "Number of Fisher Scoring iterations: 4\n"
      ]
     },
     "metadata": {},
     "output_type": "display_data"
    },
    {
     "data": {
      "text/plain": [
       "\n",
       "Call:\n",
       "glm(formula = CAT ~ RAIN + TASMAX + TASMIN + HURS, family = \"binomial\", \n",
       "    data = dado.train2, offset = WSDI_C)\n",
       "\n",
       "Deviance Residuals: \n",
       "    Min       1Q   Median       3Q      Max  \n",
       "-2.4975  -0.8789   0.4583   0.8907   2.3658  \n",
       "\n",
       "Coefficients:\n",
       "            Estimate Std. Error z value Pr(>|z|)    \n",
       "(Intercept)  0.09524    0.26335   0.362    0.718    \n",
       "RAIN        -4.07438    0.43095  -9.454  < 2e-16 ***\n",
       "TASMAX      -4.29461    0.64739  -6.634 3.27e-11 ***\n",
       "TASMIN       8.85445    0.66650  13.285  < 2e-16 ***\n",
       "HURS        -1.78419    0.30242  -5.900 3.64e-09 ***\n",
       "---\n",
       "Signif. codes:  0 ‘***’ 0.001 ‘**’ 0.01 ‘*’ 0.05 ‘.’ 0.1 ‘ ’ 1\n",
       "\n",
       "(Dispersion parameter for binomial family taken to be 1)\n",
       "\n",
       "    Null deviance: 2901.0  on 2122  degrees of freedom\n",
       "Residual deviance: 2341.7  on 2118  degrees of freedom\n",
       "AIC: 2351.7\n",
       "\n",
       "Number of Fisher Scoring iterations: 4\n"
      ]
     },
     "metadata": {},
     "output_type": "display_data"
    }
   ],
   "source": [
    "model.l1<-glm(formula=CAT~AMPT+RAIN+TASMAX+TASMIN+HURS,offset=WSDI_C,data=dado.train2,family='binomial') # AUROC 0.8156\n",
    "\n",
    "#model.l1<-glm(formula=CAT~AMPT+RAIN+TASMAX+TASMIN+HURS+WSDI_C+WSDI_D,data=dado.train2,family='binomial') # AUROC 0.8156\n",
    "\n",
    "#model.l1<-glm(formula=CAT~AMPT+RAIN+TASMAX+TASMIN+HURS,data=dado.train2,family='binomial') # AUROC 0.8156\n",
    "\n",
    "model.l12<-step(model.l1)\n",
    "\n",
    "summary(model.l1)\n",
    "\n",
    "summary(model.l12)"
   ]
  },
  {
   "cell_type": "code",
   "execution_count": 28,
   "metadata": {
    "vscode": {
     "languageId": "r"
    }
   },
   "outputs": [
    {
     "data": {
      "text/html": [
       "<style>\n",
       ".dl-inline {width: auto; margin:0; padding: 0}\n",
       ".dl-inline>dt, .dl-inline>dd {float: none; width: auto; display: inline-block}\n",
       ".dl-inline>dt::after {content: \":\\0020\"; padding-right: .5ex}\n",
       ".dl-inline>dt:not(:first-of-type) {padding-left: .5ex}\n",
       "</style><dl class=dl-inline><dt>(Intercept)</dt><dd>0.0952414506002768</dd><dt>RAIN</dt><dd>-4.07438495343106</dd><dt>TASMAX</dt><dd>-4.29461181733493</dd><dt>TASMIN</dt><dd>8.85445197616517</dd><dt>HURS</dt><dd>-1.78419173308878</dd></dl>\n"
      ],
      "text/latex": [
       "\\begin{description*}\n",
       "\\item[(Intercept)] 0.0952414506002768\n",
       "\\item[RAIN] -4.07438495343106\n",
       "\\item[TASMAX] -4.29461181733493\n",
       "\\item[TASMIN] 8.85445197616517\n",
       "\\item[HURS] -1.78419173308878\n",
       "\\end{description*}\n"
      ],
      "text/markdown": [
       "(Intercept)\n",
       ":   0.0952414506002768RAIN\n",
       ":   -4.07438495343106TASMAX\n",
       ":   -4.29461181733493TASMIN\n",
       ":   8.85445197616517HURS\n",
       ":   -1.78419173308878\n",
       "\n"
      ],
      "text/plain": [
       "(Intercept)        RAIN      TASMAX      TASMIN        HURS \n",
       " 0.09524145 -4.07438495 -4.29461182  8.85445198 -1.78419173 "
      ]
     },
     "metadata": {},
     "output_type": "display_data"
    },
    {
     "data": {
      "text/html": [
       "<style>\n",
       ".dl-inline {width: auto; margin:0; padding: 0}\n",
       ".dl-inline>dt, .dl-inline>dd {float: none; width: auto; display: inline-block}\n",
       ".dl-inline>dt::after {content: \":\\0020\"; padding-right: .5ex}\n",
       ".dl-inline>dt:not(:first-of-type) {padding-left: .5ex}\n",
       "</style><dl class=dl-inline><dt>(Intercept)</dt><dd>0</dd><dt>RAIN</dt><dd>-0.21</dd><dt>TASMAX</dt><dd>-0.22</dd><dt>TASMIN</dt><dd>0.46</dd><dt>HURS</dt><dd>-0.09</dd></dl>\n"
      ],
      "text/latex": [
       "\\begin{description*}\n",
       "\\item[(Intercept)] 0\n",
       "\\item[RAIN] -0.21\n",
       "\\item[TASMAX] -0.22\n",
       "\\item[TASMIN] 0.46\n",
       "\\item[HURS] -0.09\n",
       "\\end{description*}\n"
      ],
      "text/markdown": [
       "(Intercept)\n",
       ":   0RAIN\n",
       ":   -0.21TASMAX\n",
       ":   -0.22TASMIN\n",
       ":   0.46HURS\n",
       ":   -0.09\n",
       "\n"
      ],
      "text/plain": [
       "(Intercept)        RAIN      TASMAX      TASMIN        HURS \n",
       "       0.00       -0.21       -0.22        0.46       -0.09 "
      ]
     },
     "metadata": {},
     "output_type": "display_data"
    }
   ],
   "source": [
    "coefficients(model.l12)\n",
    "\n",
    "round(coefficients(model.l12)/sum(abs(coefficients(model.l12))),2)\n"
   ]
  },
  {
   "cell_type": "code",
   "execution_count": 29,
   "metadata": {
    "vscode": {
     "languageId": "r"
    }
   },
   "outputs": [
    {
     "data": {
      "text/html": [
       "<style>\n",
       ".dl-inline {width: auto; margin:0; padding: 0}\n",
       ".dl-inline>dt, .dl-inline>dd {float: none; width: auto; display: inline-block}\n",
       ".dl-inline>dt::after {content: \":\\0020\"; padding-right: .5ex}\n",
       ".dl-inline>dt:not(:first-of-type) {padding-left: .5ex}\n",
       "</style><dl class=dl-inline><dt>(Intercept)</dt><dd>0.477169052715822</dd><dt>AMPT</dt><dd>-0.784466794493312</dd><dt>RAIN</dt><dd>-3.9382797501806</dd><dt>TASMAX</dt><dd>-2.99422074850802</dd><dt>TASMIN</dt><dd>7.40779516083947</dd><dt>HURS</dt><dd>-1.95395745725976</dd></dl>\n"
      ],
      "text/latex": [
       "\\begin{description*}\n",
       "\\item[(Intercept)] 0.477169052715822\n",
       "\\item[AMPT] -0.784466794493312\n",
       "\\item[RAIN] -3.9382797501806\n",
       "\\item[TASMAX] -2.99422074850802\n",
       "\\item[TASMIN] 7.40779516083947\n",
       "\\item[HURS] -1.95395745725976\n",
       "\\end{description*}\n"
      ],
      "text/markdown": [
       "(Intercept)\n",
       ":   0.477169052715822AMPT\n",
       ":   -0.784466794493312RAIN\n",
       ":   -3.9382797501806TASMAX\n",
       ":   -2.99422074850802TASMIN\n",
       ":   7.40779516083947HURS\n",
       ":   -1.95395745725976\n",
       "\n"
      ],
      "text/plain": [
       "(Intercept)        AMPT        RAIN      TASMAX      TASMIN        HURS \n",
       "  0.4771691  -0.7844668  -3.9382798  -2.9942207   7.4077952  -1.9539575 "
      ]
     },
     "metadata": {},
     "output_type": "display_data"
    },
    {
     "data": {
      "text/html": [
       "<style>\n",
       ".dl-inline {width: auto; margin:0; padding: 0}\n",
       ".dl-inline>dt, .dl-inline>dd {float: none; width: auto; display: inline-block}\n",
       ".dl-inline>dt::after {content: \":\\0020\"; padding-right: .5ex}\n",
       ".dl-inline>dt:not(:first-of-type) {padding-left: .5ex}\n",
       "</style><dl class=dl-inline><dt>(Intercept)</dt><dd>0.03</dd><dt>AMPT</dt><dd>-0.04</dd><dt>RAIN</dt><dd>-0.22</dd><dt>TASMAX</dt><dd>-0.17</dd><dt>TASMIN</dt><dd>0.42</dd><dt>HURS</dt><dd>-0.11</dd></dl>\n"
      ],
      "text/latex": [
       "\\begin{description*}\n",
       "\\item[(Intercept)] 0.03\n",
       "\\item[AMPT] -0.04\n",
       "\\item[RAIN] -0.22\n",
       "\\item[TASMAX] -0.17\n",
       "\\item[TASMIN] 0.42\n",
       "\\item[HURS] -0.11\n",
       "\\end{description*}\n"
      ],
      "text/markdown": [
       "(Intercept)\n",
       ":   0.03AMPT\n",
       ":   -0.04RAIN\n",
       ":   -0.22TASMAX\n",
       ":   -0.17TASMIN\n",
       ":   0.42HURS\n",
       ":   -0.11\n",
       "\n"
      ],
      "text/plain": [
       "(Intercept)        AMPT        RAIN      TASMAX      TASMIN        HURS \n",
       "       0.03       -0.04       -0.22       -0.17        0.42       -0.11 "
      ]
     },
     "metadata": {},
     "output_type": "display_data"
    },
    {
     "ename": "",
     "evalue": "",
     "output_type": "error",
     "traceback": [
      "\u001b[1;31mO Kernel deu pane ao executar o código na célula atual ou em uma célula anterior. \n",
      "\u001b[1;31mAnalise o código nas células para identificar uma possível causa da pane. \n",
      "\u001b[1;31mClique <a href='https://aka.ms/vscodeJupyterKernelCrash'>aqui</a> para obter mais informações. \n",
      "\u001b[1;31mConsulte Jupyter <a href='command:jupyter.viewOutput'>log</a> para obter mais detalhes."
     ]
    }
   ],
   "source": [
    "coefficients(model.l1)\n",
    "\n",
    "round(coefficients(model.l1)/sum(abs(coefficients(model.l1))),2)\n"
   ]
  },
  {
   "cell_type": "code",
   "execution_count": 32,
   "metadata": {
    "vscode": {
     "languageId": "r"
    }
   },
   "outputs": [
    {
     "name": "stdout",
     "output_type": "stream",
     "text": [
      "\n",
      "\tHosmer and Lemeshow goodness of fit (GOF) test\n",
      "\n",
      "data:  dado.train2$CAT, fitted(model.l1)\n",
      "X-squared = 81.812, df = 8, p-value = 2.109e-14\n",
      "\n",
      "\n",
      "\tHosmer and Lemeshow goodness of fit (GOF) test\n",
      "\n",
      "data:  dado.train2$CAT, fitted(model.l12)\n",
      "X-squared = 78.608, df = 8, p-value = 9.315e-14\n",
      "\n"
     ]
    }
   ],
   "source": [
    "hl_gof.l1 <- hoslem.test(dado.train2$CAT, fitted(model.l1), g = 10)\n",
    "hl_gof.l12 <- hoslem.test(dado.train2$CAT, fitted(model.l12), g = 10)\n",
    "\n",
    "print(hl_gof.l1)\n",
    "print(hl_gof.l12)\n",
    "\n"
   ]
  },
  {
   "cell_type": "code",
   "execution_count": 33,
   "metadata": {
    "vscode": {
     "languageId": "r"
    }
   },
   "outputs": [],
   "source": [
    "predicted.l1 <- predict(model.l1,dado.test, type=\"response\")\n",
    "predicted.l12<-predict(model.l12,dado.test, type=\"response\")"
   ]
  },
  {
   "cell_type": "code",
   "execution_count": 34,
   "metadata": {
    "vscode": {
     "languageId": "r"
    }
   },
   "outputs": [
    {
     "name": "stdout",
     "output_type": "stream",
     "text": [
      "[1] 0.3254149\n",
      "[1] 0.323584\n"
     ]
    }
   ],
   "source": [
    "OPT.model.l1<-optimalCutoff(actuals=dado.test$CAT,predictedScores=predicted.l1)\n",
    "OPT.model.l12<-optimalCutoff(actuals=dado.test$CAT,predictedScores=predicted.l12)\n",
    "\n",
    "print(OPT.model.l1)\n",
    "print(OPT.model.l12)\n",
    "\n"
   ]
  },
  {
   "cell_type": "code",
   "execution_count": 35,
   "metadata": {
    "vscode": {
     "languageId": "r"
    }
   },
   "outputs": [
    {
     "data": {
      "text/html": [
       "<table class=\"dataframe\">\n",
       "<caption>A data.frame: 2 × 2</caption>\n",
       "<thead>\n",
       "\t<tr><th></th><th scope=col>0</th><th scope=col>1</th></tr>\n",
       "\t<tr><th></th><th scope=col>&lt;int&gt;</th><th scope=col>&lt;int&gt;</th></tr>\n",
       "</thead>\n",
       "<tbody>\n",
       "\t<tr><th scope=row>0</th><td>242</td><td> 34</td></tr>\n",
       "\t<tr><th scope=row>1</th><td>188</td><td>435</td></tr>\n",
       "</tbody>\n",
       "</table>\n"
      ],
      "text/latex": [
       "A data.frame: 2 × 2\n",
       "\\begin{tabular}{r|ll}\n",
       "  & 0 & 1\\\\\n",
       "  & <int> & <int>\\\\\n",
       "\\hline\n",
       "\t0 & 242 &  34\\\\\n",
       "\t1 & 188 & 435\\\\\n",
       "\\end{tabular}\n"
      ],
      "text/markdown": [
       "\n",
       "A data.frame: 2 × 2\n",
       "\n",
       "| <!--/--> | 0 &lt;int&gt; | 1 &lt;int&gt; |\n",
       "|---|---|---|\n",
       "| 0 | 242 |  34 |\n",
       "| 1 | 188 | 435 |\n",
       "\n"
      ],
      "text/plain": [
       "  0   1  \n",
       "0 242  34\n",
       "1 188 435"
      ]
     },
     "metadata": {},
     "output_type": "display_data"
    },
    {
     "data": {
      "text/html": [
       "<table class=\"dataframe\">\n",
       "<caption>A data.frame: 2 × 2</caption>\n",
       "<thead>\n",
       "\t<tr><th></th><th scope=col>0</th><th scope=col>1</th></tr>\n",
       "\t<tr><th></th><th scope=col>&lt;int&gt;</th><th scope=col>&lt;int&gt;</th></tr>\n",
       "</thead>\n",
       "<tbody>\n",
       "\t<tr><th scope=row>0</th><td>239</td><td> 30</td></tr>\n",
       "\t<tr><th scope=row>1</th><td>191</td><td>439</td></tr>\n",
       "</tbody>\n",
       "</table>\n"
      ],
      "text/latex": [
       "A data.frame: 2 × 2\n",
       "\\begin{tabular}{r|ll}\n",
       "  & 0 & 1\\\\\n",
       "  & <int> & <int>\\\\\n",
       "\\hline\n",
       "\t0 & 239 &  30\\\\\n",
       "\t1 & 191 & 439\\\\\n",
       "\\end{tabular}\n"
      ],
      "text/markdown": [
       "\n",
       "A data.frame: 2 × 2\n",
       "\n",
       "| <!--/--> | 0 &lt;int&gt; | 1 &lt;int&gt; |\n",
       "|---|---|---|\n",
       "| 0 | 239 |  30 |\n",
       "| 1 | 191 | 439 |\n",
       "\n"
      ],
      "text/plain": [
       "  0   1  \n",
       "0 239  30\n",
       "1 191 439"
      ]
     },
     "metadata": {},
     "output_type": "display_data"
    }
   ],
   "source": [
    "confusionMatrix(dado.test$CAT, predicted.l1, threshold=OPT.model.l1)\n",
    "confusionMatrix(dado.test$CAT, predicted.l12, threshold=OPT.model.l12)\n"
   ]
  },
  {
   "cell_type": "code",
   "execution_count": 36,
   "metadata": {
    "vscode": {
     "languageId": "r"
    }
   },
   "outputs": [
    {
     "data": {
      "text/html": [
       "0.927505330490405"
      ],
      "text/latex": [
       "0.927505330490405"
      ],
      "text/markdown": [
       "0.927505330490405"
      ],
      "text/plain": [
       "[1] 0.9275053"
      ]
     },
     "metadata": {},
     "output_type": "display_data"
    },
    {
     "data": {
      "text/html": [
       "0.936034115138593"
      ],
      "text/latex": [
       "0.936034115138593"
      ],
      "text/markdown": [
       "0.936034115138593"
      ],
      "text/plain": [
       "[1] 0.9360341"
      ]
     },
     "metadata": {},
     "output_type": "display_data"
    }
   ],
   "source": [
    "# true positive rate\n",
    "sensitivity(dado.test$CAT, predicted.l1, threshold=OPT.model.l1)\n",
    "sensitivity(dado.test$CAT, predicted.l12, threshold=OPT.model.l12)\n"
   ]
  },
  {
   "cell_type": "code",
   "execution_count": 37,
   "metadata": {
    "vscode": {
     "languageId": "r"
    }
   },
   "outputs": [
    {
     "data": {
      "text/html": [
       "0.562790697674419"
      ],
      "text/latex": [
       "0.562790697674419"
      ],
      "text/markdown": [
       "0.562790697674419"
      ],
      "text/plain": [
       "[1] 0.5627907"
      ]
     },
     "metadata": {},
     "output_type": "display_data"
    },
    {
     "data": {
      "text/html": [
       "0.555813953488372"
      ],
      "text/latex": [
       "0.555813953488372"
      ],
      "text/markdown": [
       "0.555813953488372"
      ],
      "text/plain": [
       "[1] 0.555814"
      ]
     },
     "metadata": {},
     "output_type": "display_data"
    }
   ],
   "source": [
    "\n",
    "# true negative rate\n",
    "specificity(dado.test$CAT, predicted.l1, threshold=OPT.model.l1)\n",
    "specificity(dado.test$CAT, predicted.l12, threshold=OPT.model.l12)\n"
   ]
  },
  {
   "cell_type": "code",
   "execution_count": 38,
   "metadata": {
    "vscode": {
     "languageId": "r"
    }
   },
   "outputs": [
    {
     "data": {
      "text/html": [
       "0.2469"
      ],
      "text/latex": [
       "0.2469"
      ],
      "text/markdown": [
       "0.2469"
      ],
      "text/plain": [
       "[1] 0.2469"
      ]
     },
     "metadata": {},
     "output_type": "display_data"
    },
    {
     "data": {
      "text/html": [
       "0.2458"
      ],
      "text/latex": [
       "0.2458"
      ],
      "text/markdown": [
       "0.2458"
      ],
      "text/plain": [
       "[1] 0.2458"
      ]
     },
     "metadata": {},
     "output_type": "display_data"
    }
   ],
   "source": [
    "\n",
    "# percentage of total incorrect\n",
    "misClassError(dado.test$CAT, predicted.l1, threshold=OPT.model.l1)\n",
    "misClassError(dado.test$CAT, predicted.l12, threshold=OPT.model.l12)"
   ]
  },
  {
   "cell_type": "code",
   "execution_count": 39,
   "metadata": {
    "vscode": {
     "languageId": "r"
    }
   },
   "outputs": [
    {
     "data": {
      "image/png": "[encoded data removed]",
      "text/plain": [
       "plot without title"
      ]
     },
     "metadata": {
      "image/png": {
       "height": 420,
       "width": 420
      }
     },
     "output_type": "display_data"
    }
   ],
   "source": [
    "plotROC(dado.test$CAT, predicted.l1,'Modelo Completo')"
   ]
  },
  {
   "cell_type": "code",
   "execution_count": 40,
   "metadata": {
    "vscode": {
     "languageId": "r"
    }
   },
   "outputs": [
    {
     "data": {
      "image/png": "[encoded data removed]",
      "text/plain": [
       "plot without title"
      ]
     },
     "metadata": {
      "image/png": {
       "height": 420,
       "width": 420
      }
     },
     "output_type": "display_data"
    }
   ],
   "source": [
    "plotROC(dado.test$CAT, predicted.l12,'Modelo Stepwise')"
   ]
  },
  {
   "cell_type": "code",
   "execution_count": 41,
   "metadata": {
    "vscode": {
     "languageId": "r"
    }
   },
   "outputs": [
    {
     "data": {
      "text/html": [
       "<table class=\"dataframe\">\n",
       "<caption>A data.frame: 6 × 9</caption>\n",
       "<thead>\n",
       "\t<tr><th></th><th scope=col>GEOCOD</th><th scope=col>NM_MUN</th><th scope=col>AMPT</th><th scope=col>HURS</th><th scope=col>RAIN</th><th scope=col>TASMAX</th><th scope=col>TASMIN</th><th scope=col>WSDI_D</th><th scope=col>WSDI_C</th></tr>\n",
       "\t<tr><th></th><th scope=col>&lt;int&gt;</th><th scope=col>&lt;chr&gt;</th><th scope=col>&lt;dbl&gt;</th><th scope=col>&lt;dbl&gt;</th><th scope=col>&lt;dbl&gt;</th><th scope=col>&lt;dbl&gt;</th><th scope=col>&lt;dbl&gt;</th><th scope=col>&lt;dbl&gt;</th><th scope=col>&lt;dbl&gt;</th></tr>\n",
       "</thead>\n",
       "<tbody>\n",
       "\t<tr><th scope=row>1</th><td>1100015</td><td>Alta Floresta D'Oeste</td><td>0.9471528</td><td>0.46</td><td>0.43</td><td>0.95</td><td>0.67</td><td>0.7916144</td><td>0.8342418</td></tr>\n",
       "\t<tr><th scope=row>2</th><td>1100023</td><td>Ariquemes            </td><td>0.8010333</td><td>0.45</td><td>0.44</td><td>0.96</td><td>0.74</td><td>0.7925522</td><td>0.8249905</td></tr>\n",
       "\t<tr><th scope=row>3</th><td>1100049</td><td>Cacoal               </td><td>0.8719066</td><td>0.38</td><td>0.42</td><td>0.95</td><td>0.70</td><td>0.8024601</td><td>0.8332278</td></tr>\n",
       "\t<tr><th scope=row>4</th><td>1100056</td><td>Cerejeiras           </td><td>0.9638507</td><td>0.41</td><td>0.40</td><td>0.94</td><td>0.66</td><td>0.7960839</td><td>0.8402559</td></tr>\n",
       "\t<tr><th scope=row>5</th><td>1100064</td><td>Colorado do Oeste    </td><td>0.8942002</td><td>0.42</td><td>0.46</td><td>0.88</td><td>0.63</td><td>0.7946959</td><td>0.8291372</td></tr>\n",
       "\t<tr><th scope=row>6</th><td>1100080</td><td>Costa Marques        </td><td>0.8059811</td><td>0.41</td><td>0.42</td><td>0.96</td><td>0.73</td><td>0.7853335</td><td>0.8291372</td></tr>\n",
       "</tbody>\n",
       "</table>\n"
      ],
      "text/latex": [
       "A data.frame: 6 × 9\n",
       "\\begin{tabular}{r|lllllllll}\n",
       "  & GEOCOD & NM\\_MUN & AMPT & HURS & RAIN & TASMAX & TASMIN & WSDI\\_D & WSDI\\_C\\\\\n",
       "  & <int> & <chr> & <dbl> & <dbl> & <dbl> & <dbl> & <dbl> & <dbl> & <dbl>\\\\\n",
       "\\hline\n",
       "\t1 & 1100015 & Alta Floresta D'Oeste & 0.9471528 & 0.46 & 0.43 & 0.95 & 0.67 & 0.7916144 & 0.8342418\\\\\n",
       "\t2 & 1100023 & Ariquemes             & 0.8010333 & 0.45 & 0.44 & 0.96 & 0.74 & 0.7925522 & 0.8249905\\\\\n",
       "\t3 & 1100049 & Cacoal                & 0.8719066 & 0.38 & 0.42 & 0.95 & 0.70 & 0.8024601 & 0.8332278\\\\\n",
       "\t4 & 1100056 & Cerejeiras            & 0.9638507 & 0.41 & 0.40 & 0.94 & 0.66 & 0.7960839 & 0.8402559\\\\\n",
       "\t5 & 1100064 & Colorado do Oeste     & 0.8942002 & 0.42 & 0.46 & 0.88 & 0.63 & 0.7946959 & 0.8291372\\\\\n",
       "\t6 & 1100080 & Costa Marques         & 0.8059811 & 0.41 & 0.42 & 0.96 & 0.73 & 0.7853335 & 0.8291372\\\\\n",
       "\\end{tabular}\n"
      ],
      "text/markdown": [
       "\n",
       "A data.frame: 6 × 9\n",
       "\n",
       "| <!--/--> | GEOCOD &lt;int&gt; | NM_MUN &lt;chr&gt; | AMPT &lt;dbl&gt; | HURS &lt;dbl&gt; | RAIN &lt;dbl&gt; | TASMAX &lt;dbl&gt; | TASMIN &lt;dbl&gt; | WSDI_D &lt;dbl&gt; | WSDI_C &lt;dbl&gt; |\n",
       "|---|---|---|---|---|---|---|---|---|---|\n",
       "| 1 | 1100015 | Alta Floresta D'Oeste | 0.9471528 | 0.46 | 0.43 | 0.95 | 0.67 | 0.7916144 | 0.8342418 |\n",
       "| 2 | 1100023 | Ariquemes             | 0.8010333 | 0.45 | 0.44 | 0.96 | 0.74 | 0.7925522 | 0.8249905 |\n",
       "| 3 | 1100049 | Cacoal                | 0.8719066 | 0.38 | 0.42 | 0.95 | 0.70 | 0.8024601 | 0.8332278 |\n",
       "| 4 | 1100056 | Cerejeiras            | 0.9638507 | 0.41 | 0.40 | 0.94 | 0.66 | 0.7960839 | 0.8402559 |\n",
       "| 5 | 1100064 | Colorado do Oeste     | 0.8942002 | 0.42 | 0.46 | 0.88 | 0.63 | 0.7946959 | 0.8291372 |\n",
       "| 6 | 1100080 | Costa Marques         | 0.8059811 | 0.41 | 0.42 | 0.96 | 0.73 | 0.7853335 | 0.8291372 |\n",
       "\n"
      ],
      "text/plain": [
       "  GEOCOD  NM_MUN                AMPT      HURS RAIN TASMAX TASMIN WSDI_D   \n",
       "1 1100015 Alta Floresta D'Oeste 0.9471528 0.46 0.43 0.95   0.67   0.7916144\n",
       "2 1100023 Ariquemes             0.8010333 0.45 0.44 0.96   0.74   0.7925522\n",
       "3 1100049 Cacoal                0.8719066 0.38 0.42 0.95   0.70   0.8024601\n",
       "4 1100056 Cerejeiras            0.9638507 0.41 0.40 0.94   0.66   0.7960839\n",
       "5 1100064 Colorado do Oeste     0.8942002 0.42 0.46 0.88   0.63   0.7946959\n",
       "6 1100080 Costa Marques         0.8059811 0.41 0.42 0.96   0.73   0.7853335\n",
       "  WSDI_C   \n",
       "1 0.8342418\n",
       "2 0.8249905\n",
       "3 0.8332278\n",
       "4 0.8402559\n",
       "5 0.8291372\n",
       "6 0.8291372"
      ]
     },
     "metadata": {},
     "output_type": "display_data"
    }
   ],
   "source": [
    "head(data2030O)"
   ]
  },
  {
   "cell_type": "code",
   "execution_count": 42,
   "metadata": {
    "vscode": {
     "languageId": "r"
    }
   },
   "outputs": [],
   "source": [
    "output<-data.frame(CD_MUN=data2030O[,1],NM_MUN=data2030O[,2],\n",
    "                    Hist=NA,C2030_O=NA,C2030_P=NA,C2050_O=NA,C2050_P=NA)\n",
    "\n",
    "output[,3] <- predict(model.l1,datah, type=\"response\")\n",
    "output[,4] <- predict(model.l1,data2030O, type=\"response\")\n",
    "output[,5] <- predict(model.l1,data2030P, type=\"response\")\n",
    "output[,6] <- predict(model.l1,data2050O, type=\"response\")\n",
    "output[,7] <- predict(model.l1,data2050P, type=\"response\")"
   ]
  },
  {
   "cell_type": "code",
   "execution_count": 43,
   "metadata": {
    "vscode": {
     "languageId": "r"
    }
   },
   "outputs": [],
   "source": [
    "write.xlsx(output,file='../4-Output/ameaça_full_arbovirose_20240923.xlsx')"
   ]
  },
  {
   "cell_type": "code",
   "execution_count": 44,
   "metadata": {
    "vscode": {
     "languageId": "r"
    }
   },
   "outputs": [],
   "source": [
    "output2<-data.frame(CD_MUN=data2030O[,1],NM_MUN=data2030O[,2],\n",
    "                    Hist=NA,C2030_O=NA,C2030_P=NA,C2050_O=NA,C2050_P=NA)\n",
    "\n",
    "output2[,3] <- predict(model.l12,datah, type=\"response\")\n",
    "output2[,4] <- predict(model.l12,data2030O, type=\"response\")\n",
    "output2[,5] <- predict(model.l12,data2030P, type=\"response\")\n",
    "output2[,6] <- predict(model.l12,data2050O, type=\"response\")\n",
    "output2[,7] <- predict(model.l12,data2050P, type=\"response\")"
   ]
  },
  {
   "cell_type": "code",
   "execution_count": 45,
   "metadata": {
    "vscode": {
     "languageId": "r"
    }
   },
   "outputs": [],
   "source": [
    "write.xlsx(output2,file='../4-Output/ameaça_step_arbovirose_20240923.xlsx')"
   ]
  },
  {
   "cell_type": "code",
   "execution_count": null,
   "metadata": {
    "vscode": {
     "languageId": "r"
    }
   },
   "outputs": [],
   "source": [
    "head(output)"
   ]
  },
  {
   "cell_type": "code",
   "execution_count": 46,
   "metadata": {
    "vscode": {
     "languageId": "r"
    }
   },
   "outputs": [],
   "source": [
    "map_output<-Index.map(map0,output,2)"
   ]
  },
  {
   "cell_type": "code",
   "execution_count": 47,
   "metadata": {
    "vscode": {
     "languageId": "r"
    }
   },
   "outputs": [],
   "source": [
    "map_output2<-Index.map(map0,output2,2)"
   ]
  },
  {
   "cell_type": "code",
   "execution_count": 48,
   "metadata": {
    "vscode": {
     "languageId": "r"
    }
   },
   "outputs": [],
   "source": [
    "descr<-data.frame(ID=c('Hist','C2030_O','C2030_P','C2050_O','C2050_P'),\n",
    "                TITULO=c('Potencial Climático para Ocorrência de \\nArboviroses - Período Histórico',\n",
    "                'Potencial Climático para Ocorrência de \\nArboviroses - Período 2030 O',\n",
    "                'Potencial Climático para Ocorrência de \\nArboviroses - Período 2030 P',\n",
    "                'Potencial Climático para Ocorrência de \\nArboviroses - Período 2050 O',\n",
    "                'Potencial Climático para Ocorrência de \\nArboviroses - Período 2050 P'),\n",
    "                COR=1)"
   ]
  },
  {
   "cell_type": "code",
   "execution_count": 49,
   "metadata": {
    "vscode": {
     "languageId": "r"
    }
   },
   "outputs": [],
   "source": [
    "Make.map(map_output,map_bac,descr,5,5,600,'Resultados_arbovirose_20240923',1,1,5)"
   ]
  },
  {
   "cell_type": "code",
   "execution_count": 50,
   "metadata": {
    "vscode": {
     "languageId": "r"
    }
   },
   "outputs": [],
   "source": [
    "Make.map(map_output2,map_bac,descr,5,5,600,'Resultados_arbovirose_stepwise_20240923',1,1,5)"
   ]
  },
  {
   "cell_type": "code",
   "execution_count": null,
   "metadata": {
    "vscode": {
     "languageId": "r"
    }
   },
   "outputs": [],
   "source": [
    "head(datah)"
   ]
  },
  {
   "cell_type": "code",
   "execution_count": null,
   "metadata": {
    "vscode": {
     "languageId": "r"
    }
   },
   "outputs": [],
   "source": [
    "map_arbo<-Index.map(map0,datah[,c(1:2,3,5)],2)\n",
    "\n",
    "colnames(map_arbo@data)"
   ]
  },
  {
   "cell_type": "code",
   "execution_count": 71,
   "metadata": {
    "vscode": {
     "languageId": "r"
    }
   },
   "outputs": [],
   "source": [
    "descr0<-data.frame(ID=c('CAT','PROB'),\n",
    "                    TITULO=c('Ocorrência de Arbovirose superior a 40%','Probabilidade de Ocorrência de \\nArbovirose'),COR=1)"
   ]
  },
  {
   "cell_type": "code",
   "execution_count": null,
   "metadata": {
    "vscode": {
     "languageId": "r"
    }
   },
   "outputs": [],
   "source": [
    "head(descr0)"
   ]
  },
  {
   "cell_type": "code",
   "execution_count": 73,
   "metadata": {
    "vscode": {
     "languageId": "r"
    }
   },
   "outputs": [],
   "source": [
    "Make.map(map_arbo,map_bac,descr0,5,5,600,'Arbovirose',1,1,5)"
   ]
  }
 ],
 "metadata": {
  "kernelspec": {
   "display_name": "R",
   "language": "R",
   "name": "ir"
  },
  "language_info": {
   "codemirror_mode": "r",
   "file_extension": ".r",
   "mimetype": "text/x-r-source",
   "name": "R",
   "pygments_lexer": "r",
   "version": "4.0.5"
  }
 },
 "nbformat": 4,
 "nbformat_minor": 2
}
