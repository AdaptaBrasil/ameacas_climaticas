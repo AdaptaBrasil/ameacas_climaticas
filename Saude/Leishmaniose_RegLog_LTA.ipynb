{
 "cells": [
  {
   "attachments": {},
   "cell_type": "markdown",
   "metadata": {},
   "source": [
    "# <center>Título da Proposta</center>\n",
    "---\n",
    " \n",
    "Objeto:\n",
    "\n",
    "Desenvolvido por:\n",
    "* <b>George Ulguim Pedra</b> - gupbadabum@gmail.com\n",
    "\n",
    "Criado:     01-03-2023\n",
    "\n",
    "Atualizado: 10-05-2023"
   ]
  },
  {
   "cell_type": "code",
   "execution_count": 1,
   "metadata": {
    "vscode": {
     "languageId": "r"
    }
   },
   "outputs": [],
   "source": [
    "rm(list = ls())"
   ]
  },
  {
   "cell_type": "code",
   "execution_count": 2,
   "metadata": {
    "vscode": {
     "languageId": "r"
    }
   },
   "outputs": [
    {
     "name": "stderr",
     "output_type": "stream",
     "text": [
      "Loading required package: sp\n",
      "\n",
      "rgdal: version: 1.5-23, (SVN revision 1121)\n",
      "Geospatial Data Abstraction Library extensions to R successfully loaded\n",
      "Loaded GDAL runtime: GDAL 3.3.3, released 2021/10/25\n",
      "Path to GDAL shared files: /home/hellgate/anaconda3/envs/r-env3/share/gdal\n",
      "GDAL binary built with GEOS: TRUE \n",
      "Loaded PROJ runtime: Rel. 8.1.1, September 1st, 2021, [PJ_VERSION: 811]\n",
      "Path to PROJ shared files: /home/hellgate/anaconda3/envs/r-env3/share/proj\n",
      "PROJ CDN enabled: TRUE\n",
      "Linking to sp version:1.4-5\n",
      "To mute warnings of possible GDAL/OSR exportToProj4() degradation,\n",
      "use options(\"rgdal_show_exportToProj4_warnings\"=\"none\") before loading rgdal.\n",
      "\n"
     ]
    }
   ],
   "source": [
    "library(\"rgdal\")"
   ]
  },
  {
   "attachments": {},
   "cell_type": "markdown",
   "metadata": {},
   "source": [
    "## Leitura de dados"
   ]
  },
  {
   "attachments": {},
   "cell_type": "markdown",
   "metadata": {},
   "source": [
    "### Planilhas de casos e dados climáticos"
   ]
  },
  {
   "cell_type": "code",
   "execution_count": 3,
   "metadata": {
    "vscode": {
     "languageId": "r"
    }
   },
   "outputs": [],
   "source": [
    "cas_lta <- read.csv(\"../2-Input/1-LTA/LTA_incidencia_2001_2005_wide.csv\", header = T, sep = \";\", dec = \",\")\n",
    "cli_ind <- read.csv(\"../2-Input/1-LTA/Ind_Climaticos_Simples_LTA_03_12_2023.csv\", header = T, sep = \";\", dec = \",\")\n",
    "cli_bru <- read.csv(\"../2-Input/1-LTA/Dados_Climaticos_Anuais_LTA.csv\", header = T, sep = \";\", dec = \".\")\n",
    "cli_nor <- read.csv(\"../2-Input/1-LTA/Dados_Climaticos_Anuais_NORM_LTA.csv\", header = T, sep = \";\", dec = \".\")"
   ]
  },
  {
   "attachments": {},
   "cell_type": "markdown",
   "metadata": {},
   "source": [
    "### Carregando Shapefiles"
   ]
  },
  {
   "cell_type": "code",
   "execution_count": 4,
   "metadata": {
    "vscode": {
     "languageId": "r"
    }
   },
   "outputs": [
    {
     "name": "stderr",
     "output_type": "stream",
     "text": [
      "Warning message in OGRSpatialRef(dsn, layer, morphFromESRI = morphFromESRI, dumpSRS = dumpSRS, :\n",
      "“Discarded datum Sistema_de_Referencia_Geocentrico_para_las_AmericaS_2000 in Proj4 definition: +proj=longlat +ellps=GRS80 +towgs84=0,0,0,0,0,0,0 +no_defs”\n"
     ]
    },
    {
     "name": "stdout",
     "output_type": "stream",
     "text": [
      "OGR data source with driver: ESRI Shapefile \n",
      "Source: \"/media/hellgate/16D7D0A761E2DB6A/MEGA/Shapefiles/Br_2019/br_municipios/BR_Municipios_2019.shp\", layer: \"BR_Municipios_2019\"\n",
      "with 5572 features\n",
      "It has 4 fields\n"
     ]
    }
   ],
   "source": [
    "map0 <- readOGR(\"/media/hellgate/16D7D0A761E2DB6A/MEGA/Shapefiles/Br_2019/br_municipios/BR_Municipios_2019.shp\")"
   ]
  },
  {
   "cell_type": "code",
   "execution_count": 5,
   "metadata": {
    "vscode": {
     "languageId": "r"
    }
   },
   "outputs": [
    {
     "data": {
      "text/html": [
       "<table class=\"dataframe\">\n",
       "<caption>A data.frame: 6 × 12</caption>\n",
       "<thead>\n",
       "\t<tr><th></th><th scope=col>ibge_code7</th><th scope=col>ibge_code6</th><th scope=col>uf</th><th scope=col>pop_ibge_2019</th><th scope=col>X2001</th><th scope=col>X2002</th><th scope=col>X2003</th><th scope=col>X2004</th><th scope=col>X2005</th><th scope=col>Total</th><th scope=col>incidence</th><th scope=col>indicence_100k</th></tr>\n",
       "\t<tr><th></th><th scope=col>&lt;int&gt;</th><th scope=col>&lt;int&gt;</th><th scope=col>&lt;chr&gt;</th><th scope=col>&lt;int&gt;</th><th scope=col>&lt;int&gt;</th><th scope=col>&lt;int&gt;</th><th scope=col>&lt;int&gt;</th><th scope=col>&lt;int&gt;</th><th scope=col>&lt;int&gt;</th><th scope=col>&lt;int&gt;</th><th scope=col>&lt;dbl&gt;</th><th scope=col>&lt;dbl&gt;</th></tr>\n",
       "</thead>\n",
       "<tbody>\n",
       "\t<tr><th scope=row>1</th><td>1100015</td><td>110001</td><td>RO</td><td> 22945</td><td>157</td><td>107</td><td>105</td><td>106</td><td> 48</td><td>523</td><td>0.022793637</td><td>2.279364e-07</td></tr>\n",
       "\t<tr><th scope=row>2</th><td>1100023</td><td>110002</td><td>RO</td><td>107863</td><td>160</td><td>154</td><td>124</td><td>185</td><td>115</td><td>738</td><td>0.006842013</td><td>6.842013e-08</td></tr>\n",
       "\t<tr><th scope=row>3</th><td>1100031</td><td>110003</td><td>RO</td><td>  5312</td><td>  4</td><td>  5</td><td> 11</td><td> 23</td><td>  5</td><td> 48</td><td>0.009036145</td><td>9.036145e-08</td></tr>\n",
       "\t<tr><th scope=row>4</th><td>1100049</td><td>110004</td><td>RO</td><td> 85359</td><td>139</td><td>111</td><td>112</td><td>142</td><td>152</td><td>656</td><td>0.007685188</td><td>7.685188e-08</td></tr>\n",
       "\t<tr><th scope=row>5</th><td>1100056</td><td>110005</td><td>RO</td><td> 16323</td><td>  3</td><td> 15</td><td> 14</td><td>  6</td><td> 16</td><td> 54</td><td>0.003308215</td><td>3.308215e-08</td></tr>\n",
       "\t<tr><th scope=row>6</th><td>1100064</td><td>110006</td><td>RO</td><td> 15882</td><td> 24</td><td> 36</td><td> 39</td><td> 29</td><td> 26</td><td>154</td><td>0.009696512</td><td>9.696512e-08</td></tr>\n",
       "</tbody>\n",
       "</table>\n"
      ],
      "text/latex": [
       "A data.frame: 6 × 12\n",
       "\\begin{tabular}{r|llllllllllll}\n",
       "  & ibge\\_code7 & ibge\\_code6 & uf & pop\\_ibge\\_2019 & X2001 & X2002 & X2003 & X2004 & X2005 & Total & incidence & indicence\\_100k\\\\\n",
       "  & <int> & <int> & <chr> & <int> & <int> & <int> & <int> & <int> & <int> & <int> & <dbl> & <dbl>\\\\\n",
       "\\hline\n",
       "\t1 & 1100015 & 110001 & RO &  22945 & 157 & 107 & 105 & 106 &  48 & 523 & 0.022793637 & 2.279364e-07\\\\\n",
       "\t2 & 1100023 & 110002 & RO & 107863 & 160 & 154 & 124 & 185 & 115 & 738 & 0.006842013 & 6.842013e-08\\\\\n",
       "\t3 & 1100031 & 110003 & RO &   5312 &   4 &   5 &  11 &  23 &   5 &  48 & 0.009036145 & 9.036145e-08\\\\\n",
       "\t4 & 1100049 & 110004 & RO &  85359 & 139 & 111 & 112 & 142 & 152 & 656 & 0.007685188 & 7.685188e-08\\\\\n",
       "\t5 & 1100056 & 110005 & RO &  16323 &   3 &  15 &  14 &   6 &  16 &  54 & 0.003308215 & 3.308215e-08\\\\\n",
       "\t6 & 1100064 & 110006 & RO &  15882 &  24 &  36 &  39 &  29 &  26 & 154 & 0.009696512 & 9.696512e-08\\\\\n",
       "\\end{tabular}\n"
      ],
      "text/markdown": [
       "\n",
       "A data.frame: 6 × 12\n",
       "\n",
       "| <!--/--> | ibge_code7 &lt;int&gt; | ibge_code6 &lt;int&gt; | uf &lt;chr&gt; | pop_ibge_2019 &lt;int&gt; | X2001 &lt;int&gt; | X2002 &lt;int&gt; | X2003 &lt;int&gt; | X2004 &lt;int&gt; | X2005 &lt;int&gt; | Total &lt;int&gt; | incidence &lt;dbl&gt; | indicence_100k &lt;dbl&gt; |\n",
       "|---|---|---|---|---|---|---|---|---|---|---|---|---|\n",
       "| 1 | 1100015 | 110001 | RO |  22945 | 157 | 107 | 105 | 106 |  48 | 523 | 0.022793637 | 2.279364e-07 |\n",
       "| 2 | 1100023 | 110002 | RO | 107863 | 160 | 154 | 124 | 185 | 115 | 738 | 0.006842013 | 6.842013e-08 |\n",
       "| 3 | 1100031 | 110003 | RO |   5312 |   4 |   5 |  11 |  23 |   5 |  48 | 0.009036145 | 9.036145e-08 |\n",
       "| 4 | 1100049 | 110004 | RO |  85359 | 139 | 111 | 112 | 142 | 152 | 656 | 0.007685188 | 7.685188e-08 |\n",
       "| 5 | 1100056 | 110005 | RO |  16323 |   3 |  15 |  14 |   6 |  16 |  54 | 0.003308215 | 3.308215e-08 |\n",
       "| 6 | 1100064 | 110006 | RO |  15882 |  24 |  36 |  39 |  29 |  26 | 154 | 0.009696512 | 9.696512e-08 |\n",
       "\n"
      ],
      "text/plain": [
       "  ibge_code7 ibge_code6 uf pop_ibge_2019 X2001 X2002 X2003 X2004 X2005 Total\n",
       "1 1100015    110001     RO  22945        157   107   105   106    48   523  \n",
       "2 1100023    110002     RO 107863        160   154   124   185   115   738  \n",
       "3 1100031    110003     RO   5312          4     5    11    23     5    48  \n",
       "4 1100049    110004     RO  85359        139   111   112   142   152   656  \n",
       "5 1100056    110005     RO  16323          3    15    14     6    16    54  \n",
       "6 1100064    110006     RO  15882         24    36    39    29    26   154  \n",
       "  incidence   indicence_100k\n",
       "1 0.022793637 2.279364e-07  \n",
       "2 0.006842013 6.842013e-08  \n",
       "3 0.009036145 9.036145e-08  \n",
       "4 0.007685188 7.685188e-08  \n",
       "5 0.003308215 3.308215e-08  \n",
       "6 0.009696512 9.696512e-08  "
      ]
     },
     "metadata": {},
     "output_type": "display_data"
    }
   ],
   "source": [
    "head(cas_lta)"
   ]
  },
  {
   "cell_type": "code",
   "execution_count": 6,
   "metadata": {
    "vscode": {
     "languageId": "r"
    }
   },
   "outputs": [
    {
     "data": {
      "text/html": [
       "<table class=\"dataframe\">\n",
       "<caption>A data.frame: 6 × 17</caption>\n",
       "<thead>\n",
       "\t<tr><th></th><th scope=col>CD_GEOCMU</th><th scope=col>NM_MUNICIP</th><th scope=col>X51022.2020</th><th scope=col>X51022.2030.O</th><th scope=col>X51022.2050.O</th><th scope=col>X51022.2030.P</th><th scope=col>X51022.2050.P</th><th scope=col>X51023.2020</th><th scope=col>X51023.2030.O</th><th scope=col>X51023.2050.O</th><th scope=col>X51023.2030.P</th><th scope=col>X51023.2050.P</th><th scope=col>X51024.2020</th><th scope=col>X51024.2030.O</th><th scope=col>X51024.2050.O</th><th scope=col>X51024.2030.P</th><th scope=col>X51024.2050.P</th></tr>\n",
       "\t<tr><th></th><th scope=col>&lt;int&gt;</th><th scope=col>&lt;chr&gt;</th><th scope=col>&lt;dbl&gt;</th><th scope=col>&lt;dbl&gt;</th><th scope=col>&lt;dbl&gt;</th><th scope=col>&lt;dbl&gt;</th><th scope=col>&lt;dbl&gt;</th><th scope=col>&lt;dbl&gt;</th><th scope=col>&lt;dbl&gt;</th><th scope=col>&lt;dbl&gt;</th><th scope=col>&lt;dbl&gt;</th><th scope=col>&lt;dbl&gt;</th><th scope=col>&lt;dbl&gt;</th><th scope=col>&lt;dbl&gt;</th><th scope=col>&lt;dbl&gt;</th><th scope=col>&lt;dbl&gt;</th><th scope=col>&lt;dbl&gt;</th></tr>\n",
       "</thead>\n",
       "<tbody>\n",
       "\t<tr><th scope=row>1</th><td>1100015</td><td>Alta Floresta D'Oeste</td><td>0.87</td><td>0.95</td><td>1.00</td><td>0.97</td><td>1.00</td><td>0.39</td><td>0.43</td><td>0.44</td><td>0.40</td><td>0.43</td><td>0.50</td><td>0.46</td><td>0.42</td><td>0.44</td><td>0.40</td></tr>\n",
       "\t<tr><th scope=row>2</th><td>1100023</td><td>Ariquemes            </td><td>0.87</td><td>0.96</td><td>1.00</td><td>0.98</td><td>1.00</td><td>0.43</td><td>0.44</td><td>0.44</td><td>0.41</td><td>0.42</td><td>0.50</td><td>0.45</td><td>0.41</td><td>0.43</td><td>0.39</td></tr>\n",
       "\t<tr><th scope=row>3</th><td>1100049</td><td>Cacoal               </td><td>0.86</td><td>0.95</td><td>1.00</td><td>0.97</td><td>1.00</td><td>0.40</td><td>0.42</td><td>0.43</td><td>0.39</td><td>0.40</td><td>0.41</td><td>0.38</td><td>0.33</td><td>0.35</td><td>0.31</td></tr>\n",
       "\t<tr><th scope=row>4</th><td>1100056</td><td>Cerejeiras           </td><td>0.86</td><td>0.94</td><td>0.99</td><td>0.97</td><td>1.00</td><td>0.36</td><td>0.40</td><td>0.40</td><td>0.35</td><td>0.38</td><td>0.44</td><td>0.41</td><td>0.37</td><td>0.38</td><td>0.35</td></tr>\n",
       "\t<tr><th scope=row>5</th><td>1100064</td><td>Colorado do Oeste    </td><td>0.80</td><td>0.88</td><td>0.94</td><td>0.91</td><td>0.99</td><td>0.42</td><td>0.46</td><td>0.47</td><td>0.42</td><td>0.44</td><td>0.46</td><td>0.42</td><td>0.38</td><td>0.39</td><td>0.36</td></tr>\n",
       "\t<tr><th scope=row>6</th><td>1100080</td><td>Costa Marques        </td><td>0.87</td><td>0.96</td><td>1.00</td><td>0.97</td><td>1.00</td><td>0.38</td><td>0.42</td><td>0.43</td><td>0.38</td><td>0.40</td><td>0.45</td><td>0.41</td><td>0.38</td><td>0.39</td><td>0.36</td></tr>\n",
       "</tbody>\n",
       "</table>\n"
      ],
      "text/latex": [
       "A data.frame: 6 × 17\n",
       "\\begin{tabular}{r|lllllllllllllllll}\n",
       "  & CD\\_GEOCMU & NM\\_MUNICIP & X51022.2020 & X51022.2030.O & X51022.2050.O & X51022.2030.P & X51022.2050.P & X51023.2020 & X51023.2030.O & X51023.2050.O & X51023.2030.P & X51023.2050.P & X51024.2020 & X51024.2030.O & X51024.2050.O & X51024.2030.P & X51024.2050.P\\\\\n",
       "  & <int> & <chr> & <dbl> & <dbl> & <dbl> & <dbl> & <dbl> & <dbl> & <dbl> & <dbl> & <dbl> & <dbl> & <dbl> & <dbl> & <dbl> & <dbl> & <dbl>\\\\\n",
       "\\hline\n",
       "\t1 & 1100015 & Alta Floresta D'Oeste & 0.87 & 0.95 & 1.00 & 0.97 & 1.00 & 0.39 & 0.43 & 0.44 & 0.40 & 0.43 & 0.50 & 0.46 & 0.42 & 0.44 & 0.40\\\\\n",
       "\t2 & 1100023 & Ariquemes             & 0.87 & 0.96 & 1.00 & 0.98 & 1.00 & 0.43 & 0.44 & 0.44 & 0.41 & 0.42 & 0.50 & 0.45 & 0.41 & 0.43 & 0.39\\\\\n",
       "\t3 & 1100049 & Cacoal                & 0.86 & 0.95 & 1.00 & 0.97 & 1.00 & 0.40 & 0.42 & 0.43 & 0.39 & 0.40 & 0.41 & 0.38 & 0.33 & 0.35 & 0.31\\\\\n",
       "\t4 & 1100056 & Cerejeiras            & 0.86 & 0.94 & 0.99 & 0.97 & 1.00 & 0.36 & 0.40 & 0.40 & 0.35 & 0.38 & 0.44 & 0.41 & 0.37 & 0.38 & 0.35\\\\\n",
       "\t5 & 1100064 & Colorado do Oeste     & 0.80 & 0.88 & 0.94 & 0.91 & 0.99 & 0.42 & 0.46 & 0.47 & 0.42 & 0.44 & 0.46 & 0.42 & 0.38 & 0.39 & 0.36\\\\\n",
       "\t6 & 1100080 & Costa Marques         & 0.87 & 0.96 & 1.00 & 0.97 & 1.00 & 0.38 & 0.42 & 0.43 & 0.38 & 0.40 & 0.45 & 0.41 & 0.38 & 0.39 & 0.36\\\\\n",
       "\\end{tabular}\n"
      ],
      "text/markdown": [
       "\n",
       "A data.frame: 6 × 17\n",
       "\n",
       "| <!--/--> | CD_GEOCMU &lt;int&gt; | NM_MUNICIP &lt;chr&gt; | X51022.2020 &lt;dbl&gt; | X51022.2030.O &lt;dbl&gt; | X51022.2050.O &lt;dbl&gt; | X51022.2030.P &lt;dbl&gt; | X51022.2050.P &lt;dbl&gt; | X51023.2020 &lt;dbl&gt; | X51023.2030.O &lt;dbl&gt; | X51023.2050.O &lt;dbl&gt; | X51023.2030.P &lt;dbl&gt; | X51023.2050.P &lt;dbl&gt; | X51024.2020 &lt;dbl&gt; | X51024.2030.O &lt;dbl&gt; | X51024.2050.O &lt;dbl&gt; | X51024.2030.P &lt;dbl&gt; | X51024.2050.P &lt;dbl&gt; |\n",
       "|---|---|---|---|---|---|---|---|---|---|---|---|---|---|---|---|---|---|\n",
       "| 1 | 1100015 | Alta Floresta D'Oeste | 0.87 | 0.95 | 1.00 | 0.97 | 1.00 | 0.39 | 0.43 | 0.44 | 0.40 | 0.43 | 0.50 | 0.46 | 0.42 | 0.44 | 0.40 |\n",
       "| 2 | 1100023 | Ariquemes             | 0.87 | 0.96 | 1.00 | 0.98 | 1.00 | 0.43 | 0.44 | 0.44 | 0.41 | 0.42 | 0.50 | 0.45 | 0.41 | 0.43 | 0.39 |\n",
       "| 3 | 1100049 | Cacoal                | 0.86 | 0.95 | 1.00 | 0.97 | 1.00 | 0.40 | 0.42 | 0.43 | 0.39 | 0.40 | 0.41 | 0.38 | 0.33 | 0.35 | 0.31 |\n",
       "| 4 | 1100056 | Cerejeiras            | 0.86 | 0.94 | 0.99 | 0.97 | 1.00 | 0.36 | 0.40 | 0.40 | 0.35 | 0.38 | 0.44 | 0.41 | 0.37 | 0.38 | 0.35 |\n",
       "| 5 | 1100064 | Colorado do Oeste     | 0.80 | 0.88 | 0.94 | 0.91 | 0.99 | 0.42 | 0.46 | 0.47 | 0.42 | 0.44 | 0.46 | 0.42 | 0.38 | 0.39 | 0.36 |\n",
       "| 6 | 1100080 | Costa Marques         | 0.87 | 0.96 | 1.00 | 0.97 | 1.00 | 0.38 | 0.42 | 0.43 | 0.38 | 0.40 | 0.45 | 0.41 | 0.38 | 0.39 | 0.36 |\n",
       "\n"
      ],
      "text/plain": [
       "  CD_GEOCMU NM_MUNICIP            X51022.2020 X51022.2030.O X51022.2050.O\n",
       "1 1100015   Alta Floresta D'Oeste 0.87        0.95          1.00         \n",
       "2 1100023   Ariquemes             0.87        0.96          1.00         \n",
       "3 1100049   Cacoal                0.86        0.95          1.00         \n",
       "4 1100056   Cerejeiras            0.86        0.94          0.99         \n",
       "5 1100064   Colorado do Oeste     0.80        0.88          0.94         \n",
       "6 1100080   Costa Marques         0.87        0.96          1.00         \n",
       "  X51022.2030.P X51022.2050.P X51023.2020 X51023.2030.O X51023.2050.O\n",
       "1 0.97          1.00          0.39        0.43          0.44         \n",
       "2 0.98          1.00          0.43        0.44          0.44         \n",
       "3 0.97          1.00          0.40        0.42          0.43         \n",
       "4 0.97          1.00          0.36        0.40          0.40         \n",
       "5 0.91          0.99          0.42        0.46          0.47         \n",
       "6 0.97          1.00          0.38        0.42          0.43         \n",
       "  X51023.2030.P X51023.2050.P X51024.2020 X51024.2030.O X51024.2050.O\n",
       "1 0.40          0.43          0.50        0.46          0.42         \n",
       "2 0.41          0.42          0.50        0.45          0.41         \n",
       "3 0.39          0.40          0.41        0.38          0.33         \n",
       "4 0.35          0.38          0.44        0.41          0.37         \n",
       "5 0.42          0.44          0.46        0.42          0.38         \n",
       "6 0.38          0.40          0.45        0.41          0.38         \n",
       "  X51024.2030.P X51024.2050.P\n",
       "1 0.44          0.40         \n",
       "2 0.43          0.39         \n",
       "3 0.35          0.31         \n",
       "4 0.38          0.35         \n",
       "5 0.39          0.36         \n",
       "6 0.39          0.36         "
      ]
     },
     "metadata": {},
     "output_type": "display_data"
    }
   ],
   "source": [
    "head(cli_ind)"
   ]
  },
  {
   "cell_type": "code",
   "execution_count": 7,
   "metadata": {
    "vscode": {
     "languageId": "r"
    }
   },
   "outputs": [
    {
     "data": {
      "text/html": [
       "<table class=\"dataframe\">\n",
       "<caption>A matrix: 1 × 5 of type int</caption>\n",
       "<thead>\n",
       "\t<tr><th></th><th scope=col>2001</th><th scope=col>2002</th><th scope=col>2003</th><th scope=col>2004</th><th scope=col>2005</th></tr>\n",
       "</thead>\n",
       "<tbody>\n",
       "\t<tr><th scope=row>Casos</th><td>1923</td><td>1988</td><td>1918</td><td>1810</td><td>1941</td></tr>\n",
       "</tbody>\n",
       "</table>\n"
      ],
      "text/latex": [
       "A matrix: 1 × 5 of type int\n",
       "\\begin{tabular}{r|lllll}\n",
       "  & 2001 & 2002 & 2003 & 2004 & 2005\\\\\n",
       "\\hline\n",
       "\tCasos & 1923 & 1988 & 1918 & 1810 & 1941\\\\\n",
       "\\end{tabular}\n"
      ],
      "text/markdown": [
       "\n",
       "A matrix: 1 × 5 of type int\n",
       "\n",
       "| <!--/--> | 2001 | 2002 | 2003 | 2004 | 2005 |\n",
       "|---|---|---|---|---|---|\n",
       "| Casos | 1923 | 1988 | 1918 | 1810 | 1941 |\n",
       "\n"
      ],
      "text/plain": [
       "      2001 2002 2003 2004 2005\n",
       "Casos 1923 1988 1918 1810 1941"
      ]
     },
     "metadata": {},
     "output_type": "display_data"
    }
   ],
   "source": [
    "LTA <- as.numeric(c(cas_lta[, 5], cas_lta[, 6], cas_lta[, 7], cas_lta[, 8], cas_lta[, 9]))\n",
    "\n",
    "# Contagem de municipios com informações válidas em cada ano da amostra\n",
    "# excluindo valores UNDEF (NA) e zeros\n",
    "\n",
    "LTA01 <- length(cas_lta[, 5]) - length(which(cas_lta[, 5] == 0 | is.na(cas_lta[, 5]))) # Ano de 2001\n",
    "LTA02 <- length(cas_lta[, 6]) - length(which(cas_lta[, 6] == 0 | is.na(cas_lta[, 6]))) # Ano de 2002\n",
    "LTA03 <- length(cas_lta[, 7]) - length(which(cas_lta[, 7] == 0 | is.na(cas_lta[, 7]))) # Ano de 2003\n",
    "LTA04 <- length(cas_lta[, 8]) - length(which(cas_lta[, 8] == 0 | is.na(cas_lta[, 8]))) # Ano de 2004\n",
    "LTA05 <- length(cas_lta[, 9]) - length(which(cas_lta[, 9] == 0 | is.na(cas_lta[, 9]))) # Ano de 2005\n",
    "\n",
    "CLTA <- matrix(NA, ncol = 5, nrow = 1)\n",
    "dimnames(CLTA)[[1]] <- \"Casos\"\n",
    "dimnames(CLTA)[[2]] <- c(2001:2005)\n",
    "CLTA[1, ] <- c(LTA01, LTA02, LTA03, LTA04, LTA05)\n",
    "\n",
    "CLTA"
   ]
  },
  {
   "cell_type": "code",
   "execution_count": 8,
   "metadata": {
    "vscode": {
     "languageId": "r"
    }
   },
   "outputs": [],
   "source": [
    "MED <- function(x) {\n",
    "    Y <- median(x, na.rm = T)\n",
    "}\n",
    "\n",
    "LTA.m <- apply(cas_lta[, 5:9], 1, MED)\n",
    "\n",
    "DADO_INPUT <- data.frame(GEOCOD = cas_lta[, 1], LTA.P = LTA.m, LTA.C = LTA.m)\n",
    "\n",
    "DADO_INPUT[, 4:18] <- NA"
   ]
  },
  {
   "cell_type": "code",
   "execution_count": 9,
   "metadata": {
    "vscode": {
     "languageId": "r"
    }
   },
   "outputs": [
    {
     "ename": "ERROR",
     "evalue": "Error in x[[jj]][iseq] <- vjj: substituto tem comprimento zero\n",
     "output_type": "error",
     "traceback": [
      "Error in x[[jj]][iseq] <- vjj: substituto tem comprimento zero\nTraceback:\n",
      "1. `[<-`(`*tmp*`, i, -c(1:3), value = structure(list(X51022.2020 = numeric(0), \n .     X51022.2030.O = numeric(0), X51022.2050.O = numeric(0), X51022.2030.P = numeric(0), \n .     X51022.2050.P = numeric(0), X51023.2020 = numeric(0), X51023.2030.O = numeric(0), \n .     X51023.2050.O = numeric(0), X51023.2030.P = numeric(0), X51023.2050.P = numeric(0), \n .     X51024.2020 = numeric(0), X51024.2030.O = numeric(0), X51024.2050.O = numeric(0), \n .     X51024.2030.P = numeric(0), X51024.2050.P = numeric(0)), row.names = integer(0), class = \"data.frame\"))",
      "2. `[<-.data.frame`(`*tmp*`, i, -c(1:3), value = structure(list(\n .     X51022.2020 = numeric(0), X51022.2030.O = numeric(0), X51022.2050.O = numeric(0), \n .     X51022.2030.P = numeric(0), X51022.2050.P = numeric(0), X51023.2020 = numeric(0), \n .     X51023.2030.O = numeric(0), X51023.2050.O = numeric(0), X51023.2030.P = numeric(0), \n .     X51023.2050.P = numeric(0), X51024.2020 = numeric(0), X51024.2030.O = numeric(0), \n .     X51024.2050.O = numeric(0), X51024.2030.P = numeric(0), X51024.2050.P = numeric(0)), row.names = integer(0), class = \"data.frame\"))"
     ]
    }
   ],
   "source": [
    "# Inserindo as variaveis climáticas referente ao período histórico e indexando pelo geocódido\n",
    "\n",
    "for (i in 1:nrow(DADO_INPUT)) {\n",
    "    pos <- which(DADO_INPUT[i, 1] == cli_ind[, 1])\n",
    "    DADO_INPUT[i, -c(1:3)] <- cli_ind[pos, -c(1:2)]\n",
    "}"
   ]
  },
  {
   "cell_type": "code",
   "execution_count": 14,
   "metadata": {
    "vscode": {
     "languageId": "r"
    }
   },
   "outputs": [
    {
     "data": {
      "text/html": [
       "4607"
      ],
      "text/latex": [
       "4607"
      ],
      "text/markdown": [
       "4607"
      ],
      "text/plain": [
       "[1] 4607"
      ]
     },
     "metadata": {},
     "output_type": "display_data"
    },
    {
     "data": {
      "text/html": [
       "<table class=\"dataframe\">\n",
       "<caption>A data.frame: 1 × 18</caption>\n",
       "<thead>\n",
       "\t<tr><th></th><th scope=col>GEOCOD</th><th scope=col>LTA.P</th><th scope=col>LTA.C</th><th scope=col>V4</th><th scope=col>V5</th><th scope=col>V6</th><th scope=col>V7</th><th scope=col>V8</th><th scope=col>V9</th><th scope=col>V10</th><th scope=col>V11</th><th scope=col>V12</th><th scope=col>V13</th><th scope=col>V14</th><th scope=col>V15</th><th scope=col>V16</th><th scope=col>V17</th><th scope=col>V18</th></tr>\n",
       "\t<tr><th></th><th scope=col>&lt;int&gt;</th><th scope=col>&lt;int&gt;</th><th scope=col>&lt;int&gt;</th><th scope=col>&lt;dbl&gt;</th><th scope=col>&lt;dbl&gt;</th><th scope=col>&lt;dbl&gt;</th><th scope=col>&lt;dbl&gt;</th><th scope=col>&lt;dbl&gt;</th><th scope=col>&lt;dbl&gt;</th><th scope=col>&lt;dbl&gt;</th><th scope=col>&lt;dbl&gt;</th><th scope=col>&lt;dbl&gt;</th><th scope=col>&lt;dbl&gt;</th><th scope=col>&lt;dbl&gt;</th><th scope=col>&lt;dbl&gt;</th><th scope=col>&lt;dbl&gt;</th><th scope=col>&lt;dbl&gt;</th><th scope=col>&lt;dbl&gt;</th></tr>\n",
       "</thead>\n",
       "<tbody>\n",
       "\t<tr><th scope=row>4607</th><td>4300001</td><td>NA</td><td>NA</td><td>NA</td><td>NA</td><td>NA</td><td>NA</td><td>NA</td><td>NA</td><td>NA</td><td>NA</td><td>NA</td><td>NA</td><td>NA</td><td>NA</td><td>NA</td><td>NA</td><td>NA</td></tr>\n",
       "</tbody>\n",
       "</table>\n"
      ],
      "text/latex": [
       "A data.frame: 1 × 18\n",
       "\\begin{tabular}{r|llllllllllllllllll}\n",
       "  & GEOCOD & LTA.P & LTA.C & V4 & V5 & V6 & V7 & V8 & V9 & V10 & V11 & V12 & V13 & V14 & V15 & V16 & V17 & V18\\\\\n",
       "  & <int> & <int> & <int> & <dbl> & <dbl> & <dbl> & <dbl> & <dbl> & <dbl> & <dbl> & <dbl> & <dbl> & <dbl> & <dbl> & <dbl> & <dbl> & <dbl> & <dbl>\\\\\n",
       "\\hline\n",
       "\t4607 & 4300001 & NA & NA & NA & NA & NA & NA & NA & NA & NA & NA & NA & NA & NA & NA & NA & NA & NA\\\\\n",
       "\\end{tabular}\n"
      ],
      "text/markdown": [
       "\n",
       "A data.frame: 1 × 18\n",
       "\n",
       "| <!--/--> | GEOCOD &lt;int&gt; | LTA.P &lt;int&gt; | LTA.C &lt;int&gt; | V4 &lt;dbl&gt; | V5 &lt;dbl&gt; | V6 &lt;dbl&gt; | V7 &lt;dbl&gt; | V8 &lt;dbl&gt; | V9 &lt;dbl&gt; | V10 &lt;dbl&gt; | V11 &lt;dbl&gt; | V12 &lt;dbl&gt; | V13 &lt;dbl&gt; | V14 &lt;dbl&gt; | V15 &lt;dbl&gt; | V16 &lt;dbl&gt; | V17 &lt;dbl&gt; | V18 &lt;dbl&gt; |\n",
       "|---|---|---|---|---|---|---|---|---|---|---|---|---|---|---|---|---|---|---|\n",
       "| 4607 | 4300001 | NA | NA | NA | NA | NA | NA | NA | NA | NA | NA | NA | NA | NA | NA | NA | NA | NA |\n",
       "\n"
      ],
      "text/plain": [
       "     GEOCOD  LTA.P LTA.C V4 V5 V6 V7 V8 V9 V10 V11 V12 V13 V14 V15 V16 V17 V18\n",
       "4607 4300001 NA    NA    NA NA NA NA NA NA NA  NA  NA  NA  NA  NA  NA  NA  NA "
      ]
     },
     "metadata": {},
     "output_type": "display_data"
    },
    {
     "data": {
      "text/html": [
       "<table class=\"dataframe\">\n",
       "<caption>A data.frame: 0 × 17</caption>\n",
       "<thead>\n",
       "\t<tr><th scope=col>CD_GEOCMU</th><th scope=col>NM_MUNICIP</th><th scope=col>X51022.2020</th><th scope=col>X51022.2030.O</th><th scope=col>X51022.2050.O</th><th scope=col>X51022.2030.P</th><th scope=col>X51022.2050.P</th><th scope=col>X51023.2020</th><th scope=col>X51023.2030.O</th><th scope=col>X51023.2050.O</th><th scope=col>X51023.2030.P</th><th scope=col>X51023.2050.P</th><th scope=col>X51024.2020</th><th scope=col>X51024.2030.O</th><th scope=col>X51024.2050.O</th><th scope=col>X51024.2030.P</th><th scope=col>X51024.2050.P</th></tr>\n",
       "\t<tr><th scope=col>&lt;int&gt;</th><th scope=col>&lt;chr&gt;</th><th scope=col>&lt;dbl&gt;</th><th scope=col>&lt;dbl&gt;</th><th scope=col>&lt;dbl&gt;</th><th scope=col>&lt;dbl&gt;</th><th scope=col>&lt;dbl&gt;</th><th scope=col>&lt;dbl&gt;</th><th scope=col>&lt;dbl&gt;</th><th scope=col>&lt;dbl&gt;</th><th scope=col>&lt;dbl&gt;</th><th scope=col>&lt;dbl&gt;</th><th scope=col>&lt;dbl&gt;</th><th scope=col>&lt;dbl&gt;</th><th scope=col>&lt;dbl&gt;</th><th scope=col>&lt;dbl&gt;</th><th scope=col>&lt;dbl&gt;</th></tr>\n",
       "</thead>\n",
       "<tbody>\n",
       "</tbody>\n",
       "</table>\n"
      ],
      "text/latex": [
       "A data.frame: 0 × 17\n",
       "\\begin{tabular}{lllllllllllllllll}\n",
       " CD\\_GEOCMU & NM\\_MUNICIP & X51022.2020 & X51022.2030.O & X51022.2050.O & X51022.2030.P & X51022.2050.P & X51023.2020 & X51023.2030.O & X51023.2050.O & X51023.2030.P & X51023.2050.P & X51024.2020 & X51024.2030.O & X51024.2050.O & X51024.2030.P & X51024.2050.P\\\\\n",
       " <int> & <chr> & <dbl> & <dbl> & <dbl> & <dbl> & <dbl> & <dbl> & <dbl> & <dbl> & <dbl> & <dbl> & <dbl> & <dbl> & <dbl> & <dbl> & <dbl>\\\\\n",
       "\\hline\n",
       "\\end{tabular}\n"
      ],
      "text/markdown": [
       "\n",
       "A data.frame: 0 × 17\n",
       "\n",
       "| CD_GEOCMU &lt;int&gt; | NM_MUNICIP &lt;chr&gt; | X51022.2020 &lt;dbl&gt; | X51022.2030.O &lt;dbl&gt; | X51022.2050.O &lt;dbl&gt; | X51022.2030.P &lt;dbl&gt; | X51022.2050.P &lt;dbl&gt; | X51023.2020 &lt;dbl&gt; | X51023.2030.O &lt;dbl&gt; | X51023.2050.O &lt;dbl&gt; | X51023.2030.P &lt;dbl&gt; | X51023.2050.P &lt;dbl&gt; | X51024.2020 &lt;dbl&gt; | X51024.2030.O &lt;dbl&gt; | X51024.2050.O &lt;dbl&gt; | X51024.2030.P &lt;dbl&gt; | X51024.2050.P &lt;dbl&gt; |\n",
       "|---|---|---|---|---|---|---|---|---|---|---|---|---|---|---|---|---|\n",
       "\n"
      ],
      "text/plain": [
       "     CD_GEOCMU NM_MUNICIP X51022.2020 X51022.2030.O X51022.2050.O X51022.2030.P\n",
       "     X51022.2050.P X51023.2020 X51023.2030.O X51023.2050.O X51023.2030.P\n",
       "     X51023.2050.P X51024.2020 X51024.2030.O X51024.2050.O X51024.2030.P\n",
       "     X51024.2050.P"
      ]
     },
     "metadata": {},
     "output_type": "display_data"
    },
    {
     "data": {
      "text/html": [
       "<style>\n",
       ".list-inline {list-style: none; margin:0; padding: 0}\n",
       ".list-inline>li {display: inline-block}\n",
       ".list-inline>li:not(:last-child)::after {content: \"\\00b7\"; padding: 0 .5ex}\n",
       "</style>\n",
       "<ol class=list-inline><li>5570</li><li>17</li></ol>\n"
      ],
      "text/latex": [
       "\\begin{enumerate*}\n",
       "\\item 5570\n",
       "\\item 17\n",
       "\\end{enumerate*}\n"
      ],
      "text/markdown": [
       "1. 5570\n",
       "2. 17\n",
       "\n",
       "\n"
      ],
      "text/plain": [
       "[1] 5570   17"
      ]
     },
     "metadata": {},
     "output_type": "display_data"
    },
    {
     "data": {
      "text/html": [],
      "text/latex": [],
      "text/markdown": [],
      "text/plain": [
       "integer(0)"
      ]
     },
     "metadata": {},
     "output_type": "display_data"
    }
   ],
   "source": [
    "i\n",
    "\n",
    "DADO_INPUT[i, ]\n",
    "\n",
    "cli_ind[pos, ]\n",
    "\n",
    "dim(cli_ind)\n",
    "\n",
    "pos"
   ]
  }
 ],
 "metadata": {
  "kernelspec": {
   "display_name": "R",
   "language": "R",
   "name": "ir"
  },
  "language_info": {
   "codemirror_mode": "r",
   "file_extension": ".r",
   "mimetype": "text/x-r-source",
   "name": "R",
   "pygments_lexer": "r",
   "version": "4.0.5"
  },
  "orig_nbformat": 4
 },
 "nbformat": 4,
 "nbformat_minor": 2
}
